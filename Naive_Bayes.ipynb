{
 "cells": [
  {
   "cell_type": "markdown",
   "id": "israeli-electronics",
   "metadata": {},
   "source": [
    "## Importando as Bibliotecas Básicas e os dados"
   ]
  },
  {
   "cell_type": "code",
   "execution_count": 1,
   "id": "adolescent-bubble",
   "metadata": {
    "ExecuteTime": {
     "end_time": "2022-06-09T22:34:41.666507Z",
     "start_time": "2022-06-09T22:34:38.368594Z"
    }
   },
   "outputs": [],
   "source": [
    "import pandas as pd\n",
    "import numpy as np\n",
    "import matplotlib.pyplot as plt"
   ]
  },
  {
   "cell_type": "code",
   "execution_count": 2,
   "id": "thick-bible",
   "metadata": {
    "ExecuteTime": {
     "end_time": "2022-06-09T22:35:25.177392Z",
     "start_time": "2022-06-09T22:35:20.150377Z"
    }
   },
   "outputs": [],
   "source": [
    "dados = pd.read_csv('https://raw.githubusercontent.com/shivang98/Social-Network-ads-Boost/master/Social_Network_Ads.csv')"
   ]
  },
  {
   "cell_type": "code",
   "execution_count": 3,
   "id": "tribal-recycling",
   "metadata": {
    "ExecuteTime": {
     "end_time": "2022-06-09T22:35:33.356862Z",
     "start_time": "2022-06-09T22:35:33.140523Z"
    }
   },
   "outputs": [
    {
     "data": {
      "text/html": [
       "<div>\n",
       "<style scoped>\n",
       "    .dataframe tbody tr th:only-of-type {\n",
       "        vertical-align: middle;\n",
       "    }\n",
       "\n",
       "    .dataframe tbody tr th {\n",
       "        vertical-align: top;\n",
       "    }\n",
       "\n",
       "    .dataframe thead th {\n",
       "        text-align: right;\n",
       "    }\n",
       "</style>\n",
       "<table border=\"1\" class=\"dataframe\">\n",
       "  <thead>\n",
       "    <tr style=\"text-align: right;\">\n",
       "      <th></th>\n",
       "      <th>User ID</th>\n",
       "      <th>Gender</th>\n",
       "      <th>Age</th>\n",
       "      <th>EstimatedSalary</th>\n",
       "      <th>Purchased</th>\n",
       "    </tr>\n",
       "  </thead>\n",
       "  <tbody>\n",
       "    <tr>\n",
       "      <th>0</th>\n",
       "      <td>15624510</td>\n",
       "      <td>Male</td>\n",
       "      <td>19</td>\n",
       "      <td>19000</td>\n",
       "      <td>0</td>\n",
       "    </tr>\n",
       "    <tr>\n",
       "      <th>1</th>\n",
       "      <td>15810944</td>\n",
       "      <td>Male</td>\n",
       "      <td>35</td>\n",
       "      <td>20000</td>\n",
       "      <td>0</td>\n",
       "    </tr>\n",
       "    <tr>\n",
       "      <th>2</th>\n",
       "      <td>15668575</td>\n",
       "      <td>Female</td>\n",
       "      <td>26</td>\n",
       "      <td>43000</td>\n",
       "      <td>0</td>\n",
       "    </tr>\n",
       "    <tr>\n",
       "      <th>3</th>\n",
       "      <td>15603246</td>\n",
       "      <td>Female</td>\n",
       "      <td>27</td>\n",
       "      <td>57000</td>\n",
       "      <td>0</td>\n",
       "    </tr>\n",
       "    <tr>\n",
       "      <th>4</th>\n",
       "      <td>15804002</td>\n",
       "      <td>Male</td>\n",
       "      <td>19</td>\n",
       "      <td>76000</td>\n",
       "      <td>0</td>\n",
       "    </tr>\n",
       "    <tr>\n",
       "      <th>...</th>\n",
       "      <td>...</td>\n",
       "      <td>...</td>\n",
       "      <td>...</td>\n",
       "      <td>...</td>\n",
       "      <td>...</td>\n",
       "    </tr>\n",
       "    <tr>\n",
       "      <th>395</th>\n",
       "      <td>15691863</td>\n",
       "      <td>Female</td>\n",
       "      <td>46</td>\n",
       "      <td>41000</td>\n",
       "      <td>1</td>\n",
       "    </tr>\n",
       "    <tr>\n",
       "      <th>396</th>\n",
       "      <td>15706071</td>\n",
       "      <td>Male</td>\n",
       "      <td>51</td>\n",
       "      <td>23000</td>\n",
       "      <td>1</td>\n",
       "    </tr>\n",
       "    <tr>\n",
       "      <th>397</th>\n",
       "      <td>15654296</td>\n",
       "      <td>Female</td>\n",
       "      <td>50</td>\n",
       "      <td>20000</td>\n",
       "      <td>1</td>\n",
       "    </tr>\n",
       "    <tr>\n",
       "      <th>398</th>\n",
       "      <td>15755018</td>\n",
       "      <td>Male</td>\n",
       "      <td>36</td>\n",
       "      <td>33000</td>\n",
       "      <td>0</td>\n",
       "    </tr>\n",
       "    <tr>\n",
       "      <th>399</th>\n",
       "      <td>15594041</td>\n",
       "      <td>Female</td>\n",
       "      <td>49</td>\n",
       "      <td>36000</td>\n",
       "      <td>1</td>\n",
       "    </tr>\n",
       "  </tbody>\n",
       "</table>\n",
       "<p>400 rows × 5 columns</p>\n",
       "</div>"
      ],
      "text/plain": [
       "      User ID  Gender  Age  EstimatedSalary  Purchased\n",
       "0    15624510    Male   19            19000          0\n",
       "1    15810944    Male   35            20000          0\n",
       "2    15668575  Female   26            43000          0\n",
       "3    15603246  Female   27            57000          0\n",
       "4    15804002    Male   19            76000          0\n",
       "..        ...     ...  ...              ...        ...\n",
       "395  15691863  Female   46            41000          1\n",
       "396  15706071    Male   51            23000          1\n",
       "397  15654296  Female   50            20000          1\n",
       "398  15755018    Male   36            33000          0\n",
       "399  15594041  Female   49            36000          1\n",
       "\n",
       "[400 rows x 5 columns]"
      ]
     },
     "execution_count": 3,
     "metadata": {},
     "output_type": "execute_result"
    }
   ],
   "source": [
    "dados"
   ]
  },
  {
   "cell_type": "markdown",
   "id": "hispanic-trail",
   "metadata": {},
   "source": [
    "## Aplicando o Label Encoder na coluna Gender"
   ]
  },
  {
   "cell_type": "code",
   "execution_count": 4,
   "id": "phantom-empty",
   "metadata": {
    "ExecuteTime": {
     "end_time": "2022-06-09T22:39:34.990758Z",
     "start_time": "2022-06-09T22:39:32.306700Z"
    }
   },
   "outputs": [],
   "source": [
    "colunas = dados.dtypes.reset_index()\n",
    "\n",
    "categ_cols = colunas[colunas[0] == 'object']['index'].to_list()\n",
    "\n",
    "#Fazendo o Label Encoder\n",
    "from sklearn.preprocessing import LabelEncoder\n",
    "\n",
    "le = LabelEncoder()\n",
    "\n",
    "for i in categ_cols:\n",
    "    le.fit(dados[i])\n",
    "    dados[str(i) + '_encoded'] = le.transform(dados[i])"
   ]
  },
  {
   "cell_type": "code",
   "execution_count": 5,
   "id": "republican-bacon",
   "metadata": {
    "ExecuteTime": {
     "end_time": "2022-06-09T22:39:40.343400Z",
     "start_time": "2022-06-09T22:39:40.311563Z"
    }
   },
   "outputs": [
    {
     "data": {
      "text/html": [
       "<div>\n",
       "<style scoped>\n",
       "    .dataframe tbody tr th:only-of-type {\n",
       "        vertical-align: middle;\n",
       "    }\n",
       "\n",
       "    .dataframe tbody tr th {\n",
       "        vertical-align: top;\n",
       "    }\n",
       "\n",
       "    .dataframe thead th {\n",
       "        text-align: right;\n",
       "    }\n",
       "</style>\n",
       "<table border=\"1\" class=\"dataframe\">\n",
       "  <thead>\n",
       "    <tr style=\"text-align: right;\">\n",
       "      <th></th>\n",
       "      <th>User ID</th>\n",
       "      <th>Gender</th>\n",
       "      <th>Age</th>\n",
       "      <th>EstimatedSalary</th>\n",
       "      <th>Purchased</th>\n",
       "      <th>Gender_encoded</th>\n",
       "    </tr>\n",
       "  </thead>\n",
       "  <tbody>\n",
       "    <tr>\n",
       "      <th>0</th>\n",
       "      <td>15624510</td>\n",
       "      <td>Male</td>\n",
       "      <td>19</td>\n",
       "      <td>19000</td>\n",
       "      <td>0</td>\n",
       "      <td>1</td>\n",
       "    </tr>\n",
       "    <tr>\n",
       "      <th>1</th>\n",
       "      <td>15810944</td>\n",
       "      <td>Male</td>\n",
       "      <td>35</td>\n",
       "      <td>20000</td>\n",
       "      <td>0</td>\n",
       "      <td>1</td>\n",
       "    </tr>\n",
       "    <tr>\n",
       "      <th>2</th>\n",
       "      <td>15668575</td>\n",
       "      <td>Female</td>\n",
       "      <td>26</td>\n",
       "      <td>43000</td>\n",
       "      <td>0</td>\n",
       "      <td>0</td>\n",
       "    </tr>\n",
       "    <tr>\n",
       "      <th>3</th>\n",
       "      <td>15603246</td>\n",
       "      <td>Female</td>\n",
       "      <td>27</td>\n",
       "      <td>57000</td>\n",
       "      <td>0</td>\n",
       "      <td>0</td>\n",
       "    </tr>\n",
       "    <tr>\n",
       "      <th>4</th>\n",
       "      <td>15804002</td>\n",
       "      <td>Male</td>\n",
       "      <td>19</td>\n",
       "      <td>76000</td>\n",
       "      <td>0</td>\n",
       "      <td>1</td>\n",
       "    </tr>\n",
       "    <tr>\n",
       "      <th>...</th>\n",
       "      <td>...</td>\n",
       "      <td>...</td>\n",
       "      <td>...</td>\n",
       "      <td>...</td>\n",
       "      <td>...</td>\n",
       "      <td>...</td>\n",
       "    </tr>\n",
       "    <tr>\n",
       "      <th>395</th>\n",
       "      <td>15691863</td>\n",
       "      <td>Female</td>\n",
       "      <td>46</td>\n",
       "      <td>41000</td>\n",
       "      <td>1</td>\n",
       "      <td>0</td>\n",
       "    </tr>\n",
       "    <tr>\n",
       "      <th>396</th>\n",
       "      <td>15706071</td>\n",
       "      <td>Male</td>\n",
       "      <td>51</td>\n",
       "      <td>23000</td>\n",
       "      <td>1</td>\n",
       "      <td>1</td>\n",
       "    </tr>\n",
       "    <tr>\n",
       "      <th>397</th>\n",
       "      <td>15654296</td>\n",
       "      <td>Female</td>\n",
       "      <td>50</td>\n",
       "      <td>20000</td>\n",
       "      <td>1</td>\n",
       "      <td>0</td>\n",
       "    </tr>\n",
       "    <tr>\n",
       "      <th>398</th>\n",
       "      <td>15755018</td>\n",
       "      <td>Male</td>\n",
       "      <td>36</td>\n",
       "      <td>33000</td>\n",
       "      <td>0</td>\n",
       "      <td>1</td>\n",
       "    </tr>\n",
       "    <tr>\n",
       "      <th>399</th>\n",
       "      <td>15594041</td>\n",
       "      <td>Female</td>\n",
       "      <td>49</td>\n",
       "      <td>36000</td>\n",
       "      <td>1</td>\n",
       "      <td>0</td>\n",
       "    </tr>\n",
       "  </tbody>\n",
       "</table>\n",
       "<p>400 rows × 6 columns</p>\n",
       "</div>"
      ],
      "text/plain": [
       "      User ID  Gender  Age  EstimatedSalary  Purchased  Gender_encoded\n",
       "0    15624510    Male   19            19000          0               1\n",
       "1    15810944    Male   35            20000          0               1\n",
       "2    15668575  Female   26            43000          0               0\n",
       "3    15603246  Female   27            57000          0               0\n",
       "4    15804002    Male   19            76000          0               1\n",
       "..        ...     ...  ...              ...        ...             ...\n",
       "395  15691863  Female   46            41000          1               0\n",
       "396  15706071    Male   51            23000          1               1\n",
       "397  15654296  Female   50            20000          1               0\n",
       "398  15755018    Male   36            33000          0               1\n",
       "399  15594041  Female   49            36000          1               0\n",
       "\n",
       "[400 rows x 6 columns]"
      ]
     },
     "execution_count": 5,
     "metadata": {},
     "output_type": "execute_result"
    }
   ],
   "source": [
    "dados"
   ]
  },
  {
   "cell_type": "code",
   "execution_count": 6,
   "id": "reduced-visibility",
   "metadata": {
    "ExecuteTime": {
     "end_time": "2022-06-09T22:40:06.287886Z",
     "start_time": "2022-06-09T22:40:06.273253Z"
    }
   },
   "outputs": [],
   "source": [
    "dados = dados.drop('Gender', axis = 1)"
   ]
  },
  {
   "cell_type": "markdown",
   "id": "green-joint",
   "metadata": {},
   "source": [
    "## Quebrando a base em Treino e Teste"
   ]
  },
  {
   "cell_type": "code",
   "execution_count": 7,
   "id": "mysterious-summary",
   "metadata": {
    "ExecuteTime": {
     "end_time": "2022-06-09T22:41:22.900012Z",
     "start_time": "2022-06-09T22:41:22.889364Z"
    }
   },
   "outputs": [],
   "source": [
    "x = dados.drop('Purchased', axis = 1)\n",
    "y = dados['Purchased']"
   ]
  },
  {
   "cell_type": "code",
   "execution_count": 8,
   "id": "occupied-infection",
   "metadata": {
    "ExecuteTime": {
     "end_time": "2022-06-09T22:43:04.217438Z",
     "start_time": "2022-06-09T22:43:03.713818Z"
    }
   },
   "outputs": [],
   "source": [
    "from sklearn.model_selection import train_test_split\n",
    "\n",
    "x_train, x_test, y_train, y_test = train_test_split(x, y, test_size=0.3, random_state=42)"
   ]
  },
  {
   "cell_type": "markdown",
   "id": "according-canada",
   "metadata": {},
   "source": [
    "## Carregando o modelo"
   ]
  },
  {
   "cell_type": "markdown",
   "id": "favorite-inspector",
   "metadata": {},
   "source": [
    "Na nossa base temos dados de clientes + a informação se ele comprou um anúncio oferecido em rede social ou não. Usaremos o Naive Bayes para fazer essa previsão"
   ]
  },
  {
   "cell_type": "markdown",
   "id": "annoying-request",
   "metadata": {},
   "source": [
    "## Treinando o modelo"
   ]
  },
  {
   "cell_type": "code",
   "execution_count": 9,
   "id": "herbal-orbit",
   "metadata": {
    "ExecuteTime": {
     "end_time": "2022-06-09T22:45:46.618690Z",
     "start_time": "2022-06-09T22:45:46.525981Z"
    }
   },
   "outputs": [
    {
     "data": {
      "text/plain": [
       "GaussianNB()"
      ]
     },
     "execution_count": 9,
     "metadata": {},
     "output_type": "execute_result"
    }
   ],
   "source": [
    "from sklearn.naive_bayes import GaussianNB\n",
    "\n",
    "modelo = GaussianNB()\n",
    "\n",
    "modelo.fit(x_train, y_train)"
   ]
  },
  {
   "cell_type": "markdown",
   "id": "exact-congress",
   "metadata": {},
   "source": [
    "## Fazendo a Previsão"
   ]
  },
  {
   "cell_type": "code",
   "execution_count": 10,
   "id": "level-ancient",
   "metadata": {
    "ExecuteTime": {
     "end_time": "2022-06-09T22:46:34.249325Z",
     "start_time": "2022-06-09T22:46:34.213464Z"
    }
   },
   "outputs": [],
   "source": [
    "y_pred = modelo.predict(x_test)"
   ]
  },
  {
   "cell_type": "code",
   "execution_count": 11,
   "id": "domestic-heath",
   "metadata": {
    "ExecuteTime": {
     "end_time": "2022-06-09T22:46:42.203359Z",
     "start_time": "2022-06-09T22:46:42.197283Z"
    }
   },
   "outputs": [
    {
     "data": {
      "text/plain": [
       "array([0, 1, 0, 1, 0, 0, 1, 0, 0, 0, 0, 1, 0, 0, 0, 0, 1, 0, 0, 1, 0, 0,\n",
       "       0, 1, 0, 1, 0, 0, 1, 0, 0, 0, 1, 0, 1, 0, 0, 0, 0, 0, 0, 0, 0, 0,\n",
       "       0, 1, 0, 0, 0, 0, 0, 1, 0, 0, 0, 0, 1, 0, 0, 0, 0, 0, 1, 0, 0, 1,\n",
       "       0, 1, 0, 0, 1, 0, 0, 0, 0, 0, 1, 1, 0, 0, 0, 0, 1, 0, 1, 0, 0, 1,\n",
       "       0, 0, 1, 0, 0, 0, 0, 0, 1, 0, 1, 0, 1, 0, 1, 0, 0, 1, 0, 0, 1, 0,\n",
       "       0, 0, 1, 1, 1, 0, 0, 0, 0, 0])"
      ]
     },
     "execution_count": 11,
     "metadata": {},
     "output_type": "execute_result"
    }
   ],
   "source": [
    "y_pred"
   ]
  },
  {
   "cell_type": "markdown",
   "id": "steady-clinic",
   "metadata": {},
   "source": [
    "## Avaliando o Resultado"
   ]
  },
  {
   "cell_type": "code",
   "execution_count": 12,
   "id": "african-stream",
   "metadata": {
    "ExecuteTime": {
     "end_time": "2022-06-09T22:47:51.880844Z",
     "start_time": "2022-06-09T22:47:51.869204Z"
    }
   },
   "outputs": [
    {
     "name": "stdout",
     "output_type": "stream",
     "text": [
      "0.8833333333333333\n"
     ]
    }
   ],
   "source": [
    "from sklearn.metrics import accuracy_score\n",
    "\n",
    "print(accuracy_score(y_test, y_pred))"
   ]
  },
  {
   "cell_type": "markdown",
   "id": "prostate-genome",
   "metadata": {},
   "source": [
    "## Conclusão"
   ]
  },
  {
   "cell_type": "markdown",
   "id": "liable-rental",
   "metadata": {},
   "source": [
    "Nosso modelo teve uma performance de 88% na acurácia\n",
    "\n",
    "Isso quer dizer que a taxa de acerto foi muito alta, para uma avaliação adicional, vamos fazer uma matriz de confusão para entender onde estão estes acertos e erros"
   ]
  },
  {
   "cell_type": "markdown",
   "id": "different-spiritual",
   "metadata": {},
   "source": [
    "## Matriz de Confusão"
   ]
  },
  {
   "cell_type": "code",
   "execution_count": 13,
   "id": "outer-return",
   "metadata": {
    "ExecuteTime": {
     "end_time": "2022-06-09T22:51:07.069688Z",
     "start_time": "2022-06-09T22:51:07.041581Z"
    }
   },
   "outputs": [
    {
     "data": {
      "text/plain": [
       "array([[73,  0],\n",
       "       [14, 33]])"
      ]
     },
     "execution_count": 13,
     "metadata": {},
     "output_type": "execute_result"
    }
   ],
   "source": [
    "from sklearn.metrics import confusion_matrix\n",
    "\n",
    "confusion_matrix(y_test, y_pred)"
   ]
  },
  {
   "cell_type": "code",
   "execution_count": 14,
   "id": "educational-clock",
   "metadata": {
    "ExecuteTime": {
     "end_time": "2022-06-09T22:52:28.156804Z",
     "start_time": "2022-06-09T22:52:27.383747Z"
    }
   },
   "outputs": [
    {
     "data": {
      "text/plain": [
       "Text(33.0, 0.5, 'y_test')"
      ]
     },
     "execution_count": 14,
     "metadata": {},
     "output_type": "execute_result"
    },
    {
     "data": {
      "image/png": "[encoded data removed]",
      "text/plain": [
       "<Figure size 432x288 with 2 Axes>"
      ]
     },
     "metadata": {
      "needs_background": "light"
     },
     "output_type": "display_data"
    }
   ],
   "source": [
    "import seaborn as sns\n",
    "\n",
    "sns.heatmap(confusion_matrix(y_test,y_pred), annot = True)\n",
    "\n",
    "plt.xlabel('y_test')\n",
    "plt.ylabel('y_test')"
   ]
  },
  {
   "cell_type": "code",
   "execution_count": 16,
   "id": "postal-syria",
   "metadata": {
    "ExecuteTime": {
     "end_time": "2022-06-09T22:54:13.508935Z",
     "start_time": "2022-06-09T22:54:13.498045Z"
    }
   },
   "outputs": [
    {
     "name": "stdout",
     "output_type": "stream",
     "text": [
      "1.0\n",
      "0.7021276595744681\n",
      "0.825\n"
     ]
    }
   ],
   "source": [
    "from sklearn.metrics import precision_score, recall_score, f1_score\n",
    "\n",
    "print(precision_score(y_test, y_pred))\n",
    "print(recall_score(y_test, y_pred))\n",
    "print(f1_score(y_test, y_pred))"
   ]
  },
  {
   "cell_type": "code",
   "execution_count": null,
   "id": "interpreted-ceiling",
   "metadata": {},
   "outputs": [],
   "source": []
  }
 ],
 "metadata": {
  "hide_input": false,
  "kernelspec": {
   "display_name": "Python 3",
   "language": "python",
   "name": "python3"
  },
  "language_info": {
   "codemirror_mode": {
    "name": "ipython",
    "version": 3
   },
   "file_extension": ".py",
   "mimetype": "text/x-python",
   "name": "python",
   "nbconvert_exporter": "python",
   "pygments_lexer": "ipython3",
   "version": "3.9.2"
  }
 },
 "nbformat": 4,
 "nbformat_minor": 5
}
