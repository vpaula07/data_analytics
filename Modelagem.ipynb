{
 "cells": [
  {
   "cell_type": "markdown",
   "id": "exceptional-sample",
   "metadata": {},
   "source": [
    "## 1.0 Criação e Modelagem da base de dados"
   ]
  },
  {
   "cell_type": "markdown",
   "id": "lonely-conversion",
   "metadata": {},
   "source": [
    "Um problema de modelagem pode diferir dependendo do desaﬁo que se está enfrentando, mas algumas etapas\n",
    "geralmente são padronizadas.\n",
    "Saber este framework pode te ajudar a organizar a forma de atacar um problema complexo e quebrá-lo em\n",
    "etapas menores\n",
    "\n",
    " - Criação/Manipulação da base de dados\n",
    " - Tratamento das Variáveis (Variáveis Categóricas, Padronização, etc)\n",
    " - Aplicação do Modelo\n",
    " - Medição dos resultados"
   ]
  },
  {
   "cell_type": "markdown",
   "id": "presidential-portrait",
   "metadata": {},
   "source": [
    "### Criação/Manipulação da base de dados\n",
    "\n",
    "- Objetivo:\n",
    "Extrair dados de todas as fontes necessárias, fazer as manipulações, cruzamentos de bases, tratamentos de nomes de colunas e tudo mais que for\n",
    "necessário para organizar minha base de dados.\n",
    "\n",
    "- O que preciso ter ao ﬁnal desta etapa:\n",
    "Uma tabela de dados única, organizada, validada e conﬁável, com todas as variáveis que preciso (variáveis explicativas + variável resposta) como\n",
    "colunas da tabela."
   ]
  },
  {
   "cell_type": "markdown",
   "id": "material-tiffany",
   "metadata": {},
   "source": [
    "### Importando as Bibliotecas"
   ]
  },
  {
   "cell_type": "code",
   "execution_count": 1,
   "id": "responsible-serial",
   "metadata": {
    "ExecuteTime": {
     "end_time": "2022-04-28T00:59:19.500848Z",
     "start_time": "2022-04-28T00:59:18.211022Z"
    }
   },
   "outputs": [],
   "source": [
    "import numpy as np\n",
    "import pandas as pd\n",
    "import matplotlib.pyplot as plt"
   ]
  },
  {
   "cell_type": "markdown",
   "id": "alternate-earthquake",
   "metadata": {},
   "source": [
    "### Importando a Base de Dados"
   ]
  },
  {
   "cell_type": "code",
   "execution_count": 2,
   "id": "supported-district",
   "metadata": {
    "ExecuteTime": {
     "end_time": "2022-04-28T01:00:05.005932Z",
     "start_time": "2022-04-28T01:00:04.976151Z"
    }
   },
   "outputs": [],
   "source": [
    "df = pd.read_csv('Salary_Data.csv')"
   ]
  },
  {
   "cell_type": "code",
   "execution_count": 3,
   "id": "opening-toner",
   "metadata": {
    "ExecuteTime": {
     "end_time": "2022-04-28T01:00:10.866426Z",
     "start_time": "2022-04-28T01:00:10.835071Z"
    }
   },
   "outputs": [
    {
     "data": {
      "text/html": [
       "<div>\n",
       "<style scoped>\n",
       "    .dataframe tbody tr th:only-of-type {\n",
       "        vertical-align: middle;\n",
       "    }\n",
       "\n",
       "    .dataframe tbody tr th {\n",
       "        vertical-align: top;\n",
       "    }\n",
       "\n",
       "    .dataframe thead th {\n",
       "        text-align: right;\n",
       "    }\n",
       "</style>\n",
       "<table border=\"1\" class=\"dataframe\">\n",
       "  <thead>\n",
       "    <tr style=\"text-align: right;\">\n",
       "      <th></th>\n",
       "      <th>YearsExperience</th>\n",
       "      <th>Salary</th>\n",
       "    </tr>\n",
       "  </thead>\n",
       "  <tbody>\n",
       "    <tr>\n",
       "      <th>0</th>\n",
       "      <td>1.1</td>\n",
       "      <td>39343.0</td>\n",
       "    </tr>\n",
       "    <tr>\n",
       "      <th>1</th>\n",
       "      <td>1.3</td>\n",
       "      <td>46205.0</td>\n",
       "    </tr>\n",
       "    <tr>\n",
       "      <th>2</th>\n",
       "      <td>1.5</td>\n",
       "      <td>37731.0</td>\n",
       "    </tr>\n",
       "    <tr>\n",
       "      <th>3</th>\n",
       "      <td>2.0</td>\n",
       "      <td>43525.0</td>\n",
       "    </tr>\n",
       "    <tr>\n",
       "      <th>4</th>\n",
       "      <td>2.2</td>\n",
       "      <td>39891.0</td>\n",
       "    </tr>\n",
       "  </tbody>\n",
       "</table>\n",
       "</div>"
      ],
      "text/plain": [
       "   YearsExperience   Salary\n",
       "0              1.1  39343.0\n",
       "1              1.3  46205.0\n",
       "2              1.5  37731.0\n",
       "3              2.0  43525.0\n",
       "4              2.2  39891.0"
      ]
     },
     "execution_count": 3,
     "metadata": {},
     "output_type": "execute_result"
    }
   ],
   "source": [
    "df.head()"
   ]
  },
  {
   "cell_type": "code",
   "execution_count": 4,
   "id": "dependent-traffic",
   "metadata": {
    "ExecuteTime": {
     "end_time": "2022-04-28T01:03:45.243408Z",
     "start_time": "2022-04-28T01:03:45.237536Z"
    }
   },
   "outputs": [],
   "source": [
    "X = df.iloc[:, :-1].values\n",
    "y = df.iloc[:, -1].values"
   ]
  },
  {
   "cell_type": "code",
   "execution_count": 5,
   "id": "crude-tender",
   "metadata": {
    "ExecuteTime": {
     "end_time": "2022-04-28T01:03:50.391598Z",
     "start_time": "2022-04-28T01:03:50.379434Z"
    }
   },
   "outputs": [
    {
     "data": {
      "text/plain": [
       "array([ 39343.,  46205.,  37731.,  43525.,  39891.,  56642.,  60150.,\n",
       "        54445.,  64445.,  57189.,  63218.,  55794.,  56957.,  57081.,\n",
       "        61111.,  67938.,  66029.,  83088.,  81363.,  93940.,  91738.,\n",
       "        98273., 101302., 113812., 109431., 105582., 116969., 112635.,\n",
       "       122391., 121872.])"
      ]
     },
     "execution_count": 5,
     "metadata": {},
     "output_type": "execute_result"
    }
   ],
   "source": [
    "y"
   ]
  },
  {
   "cell_type": "markdown",
   "id": "consolidated-desert",
   "metadata": {},
   "source": [
    "## 2.0 Tratamento das Variáveis(Variáveis Categóricas, Padronização, etc)"
   ]
  },
  {
   "cell_type": "markdown",
   "id": "exclusive-triangle",
   "metadata": {},
   "source": [
    " - Objetivo:\n",
    "Realizar tratamentos que sejam necessários nas variáveis para que os dados possam ser usados como entrada \n",
    "em um modelo estatístico.\n",
    "\n",
    " - O que preciso ter ao ﬁnal desta etapa:\n",
    "Uma tabela única, onde todas as suas variáveis já estejam tratadas \n",
    "(variáveis categóricas tratadas, variáveis numéricas padronizadas, etc)"
   ]
  },
  {
   "cell_type": "markdown",
   "id": "invisible-ozone",
   "metadata": {},
   "source": [
    "### Separando a Base de Dados em Treino e Teste"
   ]
  },
  {
   "cell_type": "code",
   "execution_count": 6,
   "id": "electoral-promise",
   "metadata": {
    "ExecuteTime": {
     "end_time": "2022-04-28T01:06:31.884935Z",
     "start_time": "2022-04-28T01:06:31.191178Z"
    }
   },
   "outputs": [],
   "source": [
    "from sklearn.model_selection import train_test_split\n",
    "X_treino, X_teste, y_treino, y_teste = train_test_split(X, y, test_size = 0.3)"
   ]
  },
  {
   "cell_type": "code",
   "execution_count": 7,
   "id": "impressive-project",
   "metadata": {
    "ExecuteTime": {
     "end_time": "2022-04-28T01:06:41.565011Z",
     "start_time": "2022-04-28T01:06:41.551226Z"
    }
   },
   "outputs": [
    {
     "data": {
      "text/plain": [
       "array([[ 6.8],\n",
       "       [ 8.2],\n",
       "       [ 4.9],\n",
       "       [ 8.7],\n",
       "       [ 5.1],\n",
       "       [ 3.9],\n",
       "       [ 4. ],\n",
       "       [10.3],\n",
       "       [ 5.9]])"
      ]
     },
     "execution_count": 7,
     "metadata": {},
     "output_type": "execute_result"
    }
   ],
   "source": [
    "X_teste"
   ]
  },
  {
   "cell_type": "code",
   "execution_count": 8,
   "id": "advisory-external",
   "metadata": {
    "ExecuteTime": {
     "end_time": "2022-04-28T01:07:51.335139Z",
     "start_time": "2022-04-28T01:07:51.320624Z"
    }
   },
   "outputs": [
    {
     "data": {
      "text/plain": [
       "array([ 91738., 113812.,  67938., 109431.,  66029.,  63218.,  56957.,\n",
       "       122391.,  81363.])"
      ]
     },
     "execution_count": 8,
     "metadata": {},
     "output_type": "execute_result"
    }
   ],
   "source": [
    "y_teste"
   ]
  },
  {
   "cell_type": "markdown",
   "id": "narrow-movie",
   "metadata": {},
   "source": [
    "## 3.0 Aplicação do Modelo"
   ]
  },
  {
   "cell_type": "markdown",
   "id": "altered-proportion",
   "metadata": {},
   "source": [
    " - Objetivo:\n",
    "Nesta etapa, já tenho uma tabela perfeita pronta para servir de insumo para um modelo. Nesta etapa iremos apenas escolher o\n",
    "modelo adequado para aplicação e realizar sua aplicação.\n",
    "\n",
    " - O que preciso ter ao ﬁnal desta etapa:\n",
    "Um modelo criado e treinado na tabela usada como insumo"
   ]
  },
  {
   "cell_type": "markdown",
   "id": "spread-symposium",
   "metadata": {
    "ExecuteTime": {
     "end_time": "2022-04-28T01:08:52.120843Z",
     "start_time": "2022-04-28T01:08:52.114682Z"
    }
   },
   "source": [
    "### Aplicação do Modelo"
   ]
  },
  {
   "cell_type": "code",
   "execution_count": 11,
   "id": "activated-astrology",
   "metadata": {
    "ExecuteTime": {
     "end_time": "2022-04-28T01:11:24.895940Z",
     "start_time": "2022-04-28T01:11:24.878409Z"
    }
   },
   "outputs": [
    {
     "data": {
      "text/plain": [
       "LinearRegression()"
      ]
     },
     "execution_count": 11,
     "metadata": {},
     "output_type": "execute_result"
    }
   ],
   "source": [
    "from sklearn.linear_model import LinearRegression\n",
    "regressor = LinearRegression()\n",
    "regressor.fit(X_treino, y_treino)"
   ]
  },
  {
   "cell_type": "markdown",
   "id": "fourth-thailand",
   "metadata": {},
   "source": [
    "## Prevendo o Conjunto de Teste"
   ]
  },
  {
   "cell_type": "code",
   "execution_count": 12,
   "id": "alternate-valuation",
   "metadata": {
    "ExecuteTime": {
     "end_time": "2022-04-28T01:12:45.568059Z",
     "start_time": "2022-04-28T01:12:45.564383Z"
    }
   },
   "outputs": [],
   "source": [
    "y_prev = regressor.predict(X_teste)"
   ]
  },
  {
   "cell_type": "markdown",
   "id": "interpreted-poker",
   "metadata": {},
   "source": [
    "### Visualizar os Resultados"
   ]
  },
  {
   "cell_type": "code",
   "execution_count": 13,
   "id": "enormous-boating",
   "metadata": {
    "ExecuteTime": {
     "end_time": "2022-04-28T01:14:59.633539Z",
     "start_time": "2022-04-28T01:14:59.105049Z"
    }
   },
   "outputs": [
    {
     "data": {
      "image/png": "[encoded data removed]",
      "text/plain": [
       "<Figure size 432x288 with 1 Axes>"
      ]
     },
     "metadata": {
      "needs_background": "light"
     },
     "output_type": "display_data"
    }
   ],
   "source": [
    "plt.scatter(X_teste, y_teste, color='red')\n",
    "plt.plot(X_teste, y_prev, color = 'blue')\n",
    "plt.title('Salário vs Anos de Experiência')\n",
    "plt.xlabel('Anos de Experiência')\n",
    "plt.ylabel('Salário')\n",
    "plt.show()"
   ]
  },
  {
   "cell_type": "markdown",
   "id": "critical-recommendation",
   "metadata": {},
   "source": [
    "### Avaliando os Resultados"
   ]
  },
  {
   "cell_type": "code",
   "execution_count": 14,
   "id": "electronic-walker",
   "metadata": {
    "ExecuteTime": {
     "end_time": "2022-04-28T01:16:25.850644Z",
     "start_time": "2022-04-28T01:16:25.841330Z"
    }
   },
   "outputs": [],
   "source": [
    "from sklearn.metrics import mean_squared_error as mse\n",
    "from math import sqrt"
   ]
  },
  {
   "cell_type": "markdown",
   "id": "experienced-reservoir",
   "metadata": {},
   "source": [
    "## 4.0 Medição dos resultados"
   ]
  },
  {
   "cell_type": "markdown",
   "id": "average-gentleman",
   "metadata": {},
   "source": [
    " - Objetivo:\n",
    "Medir se o modelo que usamos foi capaz de realizar de forma satisfatória a tarefa que era necessária.\n",
    "Exemplo: Se precisávamos fazer uma previsão, precisamos medir o quanto o modelo acertou.\n",
    "\n",
    " - O que preciso ter ao ﬁnal desta etapa:\n",
    "Uma métrica calculada, adequada para medir a performance do modelo. Para que possamos avaliar se precisamos rever a estratégia ou se podemos considerar o\n",
    "problema como resolvido."
   ]
  },
  {
   "cell_type": "markdown",
   "id": "compliant-fighter",
   "metadata": {},
   "source": [
    "### Calculando o RMSE"
   ]
  },
  {
   "cell_type": "code",
   "execution_count": 15,
   "id": "serious-maker",
   "metadata": {
    "ExecuteTime": {
     "end_time": "2022-04-28T01:17:24.245764Z",
     "start_time": "2022-04-28T01:17:24.241768Z"
    }
   },
   "outputs": [],
   "source": [
    "erro = sqrt(mse(y_teste, y_prev))"
   ]
  },
  {
   "cell_type": "code",
   "execution_count": 16,
   "id": "progressive-pearl",
   "metadata": {
    "ExecuteTime": {
     "end_time": "2022-04-28T01:17:27.513357Z",
     "start_time": "2022-04-28T01:17:27.508074Z"
    }
   },
   "outputs": [
    {
     "data": {
      "text/plain": [
       "5447.701426348438"
      ]
     },
     "execution_count": 16,
     "metadata": {},
     "output_type": "execute_result"
    }
   ],
   "source": [
    "erro"
   ]
  },
  {
   "cell_type": "markdown",
   "id": "younger-hardware",
   "metadata": {},
   "source": [
    "### Calculando o R²"
   ]
  },
  {
   "cell_type": "code",
   "execution_count": 17,
   "id": "civilian-headline",
   "metadata": {
    "ExecuteTime": {
     "end_time": "2022-04-28T01:18:13.908671Z",
     "start_time": "2022-04-28T01:18:13.899685Z"
    }
   },
   "outputs": [],
   "source": [
    "from sklearn.metrics import r2_score as r2"
   ]
  },
  {
   "cell_type": "code",
   "execution_count": 18,
   "id": "focused-ranch",
   "metadata": {
    "ExecuteTime": {
     "end_time": "2022-04-28T01:18:26.906105Z",
     "start_time": "2022-04-28T01:18:26.896983Z"
    }
   },
   "outputs": [],
   "source": [
    "erro = r2(y_teste, y_prev)"
   ]
  },
  {
   "cell_type": "code",
   "execution_count": 19,
   "id": "organized-turner",
   "metadata": {
    "ExecuteTime": {
     "end_time": "2022-04-28T01:18:32.229937Z",
     "start_time": "2022-04-28T01:18:32.218394Z"
    }
   },
   "outputs": [
    {
     "data": {
      "text/plain": [
       "0.9442234996074634"
      ]
     },
     "execution_count": 19,
     "metadata": {},
     "output_type": "execute_result"
    }
   ],
   "source": [
    "erro"
   ]
  },
  {
   "cell_type": "code",
   "execution_count": null,
   "id": "prompt-obligation",
   "metadata": {},
   "outputs": [],
   "source": []
  }
 ],
 "metadata": {
  "hide_input": false,
  "kernelspec": {
   "display_name": "Python 3",
   "language": "python",
   "name": "python3"
  },
  "language_info": {
   "codemirror_mode": {
    "name": "ipython",
    "version": 3
   },
   "file_extension": ".py",
   "mimetype": "text/x-python",
   "name": "python",
   "nbconvert_exporter": "python",
   "pygments_lexer": "ipython3",
   "version": "3.9.2"
  }
 },
 "nbformat": 4,
 "nbformat_minor": 5
}
