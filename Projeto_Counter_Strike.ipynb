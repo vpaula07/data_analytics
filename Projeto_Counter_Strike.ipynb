{
 "cells": [
  {
   "cell_type": "markdown",
   "id": "collaborative-aberdeen",
   "metadata": {},
   "source": [
    "## Projeto"
   ]
  },
  {
   "cell_type": "markdown",
   "id": "above-right",
   "metadata": {},
   "source": [
    "#### Dada uma base de dados que contem resultados de diversos jogos de Counter Strike, com variáveis coletadas nos jogos e os resultados de quem ganhou cada round. \n",
    "#### Vamos criar um modelo que nos permita prever quem irá ganhar um round de um jogo"
   ]
  },
  {
   "cell_type": "markdown",
   "id": "white-passion",
   "metadata": {},
   "source": [
    "### Importando as Bibliotecas"
   ]
  },
  {
   "cell_type": "code",
   "execution_count": 39,
   "id": "complicated-spider",
   "metadata": {
    "ExecuteTime": {
     "end_time": "2022-05-24T01:09:38.592602Z",
     "start_time": "2022-05-24T01:09:38.587776Z"
    }
   },
   "outputs": [],
   "source": [
    "import pandas as pd\n",
    "import matplotlib as plt\n",
    "from matplotlib import figure\n",
    "import numpy as np"
   ]
  },
  {
   "cell_type": "markdown",
   "id": "veterinary-speaker",
   "metadata": {},
   "source": [
    "### Importando o Dataset"
   ]
  },
  {
   "cell_type": "code",
   "execution_count": 2,
   "id": "corrected-while",
   "metadata": {
    "ExecuteTime": {
     "end_time": "2022-05-24T00:15:51.289657Z",
     "start_time": "2022-05-24T00:15:50.533389Z"
    }
   },
   "outputs": [],
   "source": [
    "df = pd.read_csv(r'csgo_round_snapshots.csv')"
   ]
  },
  {
   "cell_type": "markdown",
   "id": "amazing-wheel",
   "metadata": {},
   "source": [
    "### Estudando o Dataset"
   ]
  },
  {
   "cell_type": "code",
   "execution_count": 4,
   "id": "blocked-tattoo",
   "metadata": {
    "ExecuteTime": {
     "end_time": "2022-05-24T00:16:55.039789Z",
     "start_time": "2022-05-24T00:16:54.455481Z"
    }
   },
   "outputs": [
    {
     "data": {
      "text/html": [
       "<div>\n",
       "<style scoped>\n",
       "    .dataframe tbody tr th:only-of-type {\n",
       "        vertical-align: middle;\n",
       "    }\n",
       "\n",
       "    .dataframe tbody tr th {\n",
       "        vertical-align: top;\n",
       "    }\n",
       "\n",
       "    .dataframe thead th {\n",
       "        text-align: right;\n",
       "    }\n",
       "</style>\n",
       "<table border=\"1\" class=\"dataframe\">\n",
       "  <thead>\n",
       "    <tr style=\"text-align: right;\">\n",
       "      <th></th>\n",
       "      <th>time_left</th>\n",
       "      <th>ct_score</th>\n",
       "      <th>t_score</th>\n",
       "      <th>ct_health</th>\n",
       "      <th>t_health</th>\n",
       "      <th>ct_armor</th>\n",
       "      <th>t_armor</th>\n",
       "      <th>ct_money</th>\n",
       "      <th>t_money</th>\n",
       "      <th>ct_helmets</th>\n",
       "      <th>...</th>\n",
       "      <th>ct_grenade_flashbang</th>\n",
       "      <th>t_grenade_flashbang</th>\n",
       "      <th>ct_grenade_smokegrenade</th>\n",
       "      <th>t_grenade_smokegrenade</th>\n",
       "      <th>ct_grenade_incendiarygrenade</th>\n",
       "      <th>t_grenade_incendiarygrenade</th>\n",
       "      <th>ct_grenade_molotovgrenade</th>\n",
       "      <th>t_grenade_molotovgrenade</th>\n",
       "      <th>ct_grenade_decoygrenade</th>\n",
       "      <th>t_grenade_decoygrenade</th>\n",
       "    </tr>\n",
       "  </thead>\n",
       "  <tbody>\n",
       "    <tr>\n",
       "      <th>count</th>\n",
       "      <td>122410.000000</td>\n",
       "      <td>122410.000000</td>\n",
       "      <td>122410.000000</td>\n",
       "      <td>122410.000000</td>\n",
       "      <td>122410.000000</td>\n",
       "      <td>122410.000000</td>\n",
       "      <td>122410.000000</td>\n",
       "      <td>122410.000000</td>\n",
       "      <td>122410.000000</td>\n",
       "      <td>122410.000000</td>\n",
       "      <td>...</td>\n",
       "      <td>122410.000000</td>\n",
       "      <td>122410.000000</td>\n",
       "      <td>122410.000000</td>\n",
       "      <td>122410.000000</td>\n",
       "      <td>122410.000000</td>\n",
       "      <td>122410.000000</td>\n",
       "      <td>122410.000000</td>\n",
       "      <td>122410.000000</td>\n",
       "      <td>122410.000000</td>\n",
       "      <td>122410.000000</td>\n",
       "    </tr>\n",
       "    <tr>\n",
       "      <th>mean</th>\n",
       "      <td>97.886922</td>\n",
       "      <td>6.709239</td>\n",
       "      <td>6.780435</td>\n",
       "      <td>412.106568</td>\n",
       "      <td>402.714500</td>\n",
       "      <td>314.142121</td>\n",
       "      <td>298.444670</td>\n",
       "      <td>9789.023773</td>\n",
       "      <td>11241.036680</td>\n",
       "      <td>2.053901</td>\n",
       "      <td>...</td>\n",
       "      <td>1.853157</td>\n",
       "      <td>1.858100</td>\n",
       "      <td>1.540814</td>\n",
       "      <td>1.627146</td>\n",
       "      <td>1.001969</td>\n",
       "      <td>0.019819</td>\n",
       "      <td>0.048011</td>\n",
       "      <td>1.352095</td>\n",
       "      <td>0.027694</td>\n",
       "      <td>0.025750</td>\n",
       "    </tr>\n",
       "    <tr>\n",
       "      <th>std</th>\n",
       "      <td>54.465238</td>\n",
       "      <td>4.790362</td>\n",
       "      <td>4.823543</td>\n",
       "      <td>132.293290</td>\n",
       "      <td>139.919033</td>\n",
       "      <td>171.029736</td>\n",
       "      <td>174.576545</td>\n",
       "      <td>11215.042286</td>\n",
       "      <td>12162.806759</td>\n",
       "      <td>1.841470</td>\n",
       "      <td>...</td>\n",
       "      <td>1.772791</td>\n",
       "      <td>1.794473</td>\n",
       "      <td>1.737804</td>\n",
       "      <td>1.829147</td>\n",
       "      <td>1.458084</td>\n",
       "      <td>0.143933</td>\n",
       "      <td>0.227669</td>\n",
       "      <td>1.663246</td>\n",
       "      <td>0.169531</td>\n",
       "      <td>0.164162</td>\n",
       "    </tr>\n",
       "    <tr>\n",
       "      <th>min</th>\n",
       "      <td>0.010000</td>\n",
       "      <td>0.000000</td>\n",
       "      <td>0.000000</td>\n",
       "      <td>0.000000</td>\n",
       "      <td>0.000000</td>\n",
       "      <td>0.000000</td>\n",
       "      <td>0.000000</td>\n",
       "      <td>0.000000</td>\n",
       "      <td>0.000000</td>\n",
       "      <td>0.000000</td>\n",
       "      <td>...</td>\n",
       "      <td>0.000000</td>\n",
       "      <td>0.000000</td>\n",
       "      <td>0.000000</td>\n",
       "      <td>0.000000</td>\n",
       "      <td>0.000000</td>\n",
       "      <td>0.000000</td>\n",
       "      <td>0.000000</td>\n",
       "      <td>0.000000</td>\n",
       "      <td>0.000000</td>\n",
       "      <td>0.000000</td>\n",
       "    </tr>\n",
       "    <tr>\n",
       "      <th>25%</th>\n",
       "      <td>54.920000</td>\n",
       "      <td>3.000000</td>\n",
       "      <td>3.000000</td>\n",
       "      <td>350.000000</td>\n",
       "      <td>322.000000</td>\n",
       "      <td>194.000000</td>\n",
       "      <td>174.000000</td>\n",
       "      <td>1300.000000</td>\n",
       "      <td>1550.000000</td>\n",
       "      <td>0.000000</td>\n",
       "      <td>...</td>\n",
       "      <td>0.000000</td>\n",
       "      <td>0.000000</td>\n",
       "      <td>0.000000</td>\n",
       "      <td>0.000000</td>\n",
       "      <td>0.000000</td>\n",
       "      <td>0.000000</td>\n",
       "      <td>0.000000</td>\n",
       "      <td>0.000000</td>\n",
       "      <td>0.000000</td>\n",
       "      <td>0.000000</td>\n",
       "    </tr>\n",
       "    <tr>\n",
       "      <th>50%</th>\n",
       "      <td>94.910000</td>\n",
       "      <td>6.000000</td>\n",
       "      <td>6.000000</td>\n",
       "      <td>500.000000</td>\n",
       "      <td>500.000000</td>\n",
       "      <td>377.000000</td>\n",
       "      <td>334.000000</td>\n",
       "      <td>5500.000000</td>\n",
       "      <td>7150.000000</td>\n",
       "      <td>2.000000</td>\n",
       "      <td>...</td>\n",
       "      <td>1.000000</td>\n",
       "      <td>1.000000</td>\n",
       "      <td>1.000000</td>\n",
       "      <td>1.000000</td>\n",
       "      <td>0.000000</td>\n",
       "      <td>0.000000</td>\n",
       "      <td>0.000000</td>\n",
       "      <td>1.000000</td>\n",
       "      <td>0.000000</td>\n",
       "      <td>0.000000</td>\n",
       "    </tr>\n",
       "    <tr>\n",
       "      <th>75%</th>\n",
       "      <td>166.917500</td>\n",
       "      <td>10.000000</td>\n",
       "      <td>10.000000</td>\n",
       "      <td>500.000000</td>\n",
       "      <td>500.000000</td>\n",
       "      <td>486.000000</td>\n",
       "      <td>468.000000</td>\n",
       "      <td>14600.000000</td>\n",
       "      <td>18000.000000</td>\n",
       "      <td>4.000000</td>\n",
       "      <td>...</td>\n",
       "      <td>3.000000</td>\n",
       "      <td>3.000000</td>\n",
       "      <td>3.000000</td>\n",
       "      <td>3.000000</td>\n",
       "      <td>2.000000</td>\n",
       "      <td>0.000000</td>\n",
       "      <td>0.000000</td>\n",
       "      <td>2.000000</td>\n",
       "      <td>0.000000</td>\n",
       "      <td>0.000000</td>\n",
       "    </tr>\n",
       "    <tr>\n",
       "      <th>max</th>\n",
       "      <td>175.000000</td>\n",
       "      <td>32.000000</td>\n",
       "      <td>33.000000</td>\n",
       "      <td>500.000000</td>\n",
       "      <td>600.000000</td>\n",
       "      <td>500.000000</td>\n",
       "      <td>500.000000</td>\n",
       "      <td>80000.000000</td>\n",
       "      <td>80000.000000</td>\n",
       "      <td>5.000000</td>\n",
       "      <td>...</td>\n",
       "      <td>7.000000</td>\n",
       "      <td>7.000000</td>\n",
       "      <td>6.000000</td>\n",
       "      <td>9.000000</td>\n",
       "      <td>5.000000</td>\n",
       "      <td>3.000000</td>\n",
       "      <td>3.000000</td>\n",
       "      <td>5.000000</td>\n",
       "      <td>3.000000</td>\n",
       "      <td>2.000000</td>\n",
       "    </tr>\n",
       "  </tbody>\n",
       "</table>\n",
       "<p>8 rows × 94 columns</p>\n",
       "</div>"
      ],
      "text/plain": [
       "           time_left       ct_score        t_score      ct_health  \\\n",
       "count  122410.000000  122410.000000  122410.000000  122410.000000   \n",
       "mean       97.886922       6.709239       6.780435     412.106568   \n",
       "std        54.465238       4.790362       4.823543     132.293290   \n",
       "min         0.010000       0.000000       0.000000       0.000000   \n",
       "25%        54.920000       3.000000       3.000000     350.000000   \n",
       "50%        94.910000       6.000000       6.000000     500.000000   \n",
       "75%       166.917500      10.000000      10.000000     500.000000   \n",
       "max       175.000000      32.000000      33.000000     500.000000   \n",
       "\n",
       "            t_health       ct_armor        t_armor       ct_money  \\\n",
       "count  122410.000000  122410.000000  122410.000000  122410.000000   \n",
       "mean      402.714500     314.142121     298.444670    9789.023773   \n",
       "std       139.919033     171.029736     174.576545   11215.042286   \n",
       "min         0.000000       0.000000       0.000000       0.000000   \n",
       "25%       322.000000     194.000000     174.000000    1300.000000   \n",
       "50%       500.000000     377.000000     334.000000    5500.000000   \n",
       "75%       500.000000     486.000000     468.000000   14600.000000   \n",
       "max       600.000000     500.000000     500.000000   80000.000000   \n",
       "\n",
       "             t_money     ct_helmets  ...  ct_grenade_flashbang  \\\n",
       "count  122410.000000  122410.000000  ...         122410.000000   \n",
       "mean    11241.036680       2.053901  ...              1.853157   \n",
       "std     12162.806759       1.841470  ...              1.772791   \n",
       "min         0.000000       0.000000  ...              0.000000   \n",
       "25%      1550.000000       0.000000  ...              0.000000   \n",
       "50%      7150.000000       2.000000  ...              1.000000   \n",
       "75%     18000.000000       4.000000  ...              3.000000   \n",
       "max     80000.000000       5.000000  ...              7.000000   \n",
       "\n",
       "       t_grenade_flashbang  ct_grenade_smokegrenade  t_grenade_smokegrenade  \\\n",
       "count        122410.000000            122410.000000           122410.000000   \n",
       "mean              1.858100                 1.540814                1.627146   \n",
       "std               1.794473                 1.737804                1.829147   \n",
       "min               0.000000                 0.000000                0.000000   \n",
       "25%               0.000000                 0.000000                0.000000   \n",
       "50%               1.000000                 1.000000                1.000000   \n",
       "75%               3.000000                 3.000000                3.000000   \n",
       "max               7.000000                 6.000000                9.000000   \n",
       "\n",
       "       ct_grenade_incendiarygrenade  t_grenade_incendiarygrenade  \\\n",
       "count                 122410.000000                122410.000000   \n",
       "mean                       1.001969                     0.019819   \n",
       "std                        1.458084                     0.143933   \n",
       "min                        0.000000                     0.000000   \n",
       "25%                        0.000000                     0.000000   \n",
       "50%                        0.000000                     0.000000   \n",
       "75%                        2.000000                     0.000000   \n",
       "max                        5.000000                     3.000000   \n",
       "\n",
       "       ct_grenade_molotovgrenade  t_grenade_molotovgrenade  \\\n",
       "count              122410.000000             122410.000000   \n",
       "mean                    0.048011                  1.352095   \n",
       "std                     0.227669                  1.663246   \n",
       "min                     0.000000                  0.000000   \n",
       "25%                     0.000000                  0.000000   \n",
       "50%                     0.000000                  1.000000   \n",
       "75%                     0.000000                  2.000000   \n",
       "max                     3.000000                  5.000000   \n",
       "\n",
       "       ct_grenade_decoygrenade  t_grenade_decoygrenade  \n",
       "count            122410.000000           122410.000000  \n",
       "mean                  0.027694                0.025750  \n",
       "std                   0.169531                0.164162  \n",
       "min                   0.000000                0.000000  \n",
       "25%                   0.000000                0.000000  \n",
       "50%                   0.000000                0.000000  \n",
       "75%                   0.000000                0.000000  \n",
       "max                   3.000000                2.000000  \n",
       "\n",
       "[8 rows x 94 columns]"
      ]
     },
     "execution_count": 4,
     "metadata": {},
     "output_type": "execute_result"
    }
   ],
   "source": [
    "df.describe()"
   ]
  },
  {
   "cell_type": "markdown",
   "id": "narrative-percentage",
   "metadata": {},
   "source": [
    "Aparentemente não temos colunas NaN no dataset\n",
    "\n",
    "Temos 122.410 linhas no dataset e 94 colunas de variáveis numéricas"
   ]
  },
  {
   "cell_type": "markdown",
   "id": "material-observation",
   "metadata": {},
   "source": [
    "### Dados Nulos (verificação)"
   ]
  },
  {
   "cell_type": "code",
   "execution_count": 6,
   "id": "understood-pharmacology",
   "metadata": {
    "ExecuteTime": {
     "end_time": "2022-05-24T00:20:50.326823Z",
     "start_time": "2022-05-24T00:20:50.287942Z"
    }
   },
   "outputs": [],
   "source": [
    "df_nan = pd.DataFrame(df.isna().sum()).reset_index().rename(columns = {0:'total_nan','index': 'coluna'})"
   ]
  },
  {
   "cell_type": "code",
   "execution_count": 7,
   "id": "strange-removal",
   "metadata": {
    "ExecuteTime": {
     "end_time": "2022-05-24T00:21:01.019776Z",
     "start_time": "2022-05-24T00:21:01.004519Z"
    }
   },
   "outputs": [
    {
     "data": {
      "text/html": [
       "<div>\n",
       "<style scoped>\n",
       "    .dataframe tbody tr th:only-of-type {\n",
       "        vertical-align: middle;\n",
       "    }\n",
       "\n",
       "    .dataframe tbody tr th {\n",
       "        vertical-align: top;\n",
       "    }\n",
       "\n",
       "    .dataframe thead th {\n",
       "        text-align: right;\n",
       "    }\n",
       "</style>\n",
       "<table border=\"1\" class=\"dataframe\">\n",
       "  <thead>\n",
       "    <tr style=\"text-align: right;\">\n",
       "      <th></th>\n",
       "      <th>coluna</th>\n",
       "      <th>total_nan</th>\n",
       "    </tr>\n",
       "  </thead>\n",
       "  <tbody>\n",
       "    <tr>\n",
       "      <th>0</th>\n",
       "      <td>time_left</td>\n",
       "      <td>0</td>\n",
       "    </tr>\n",
       "    <tr>\n",
       "      <th>1</th>\n",
       "      <td>ct_score</td>\n",
       "      <td>0</td>\n",
       "    </tr>\n",
       "    <tr>\n",
       "      <th>2</th>\n",
       "      <td>t_score</td>\n",
       "      <td>0</td>\n",
       "    </tr>\n",
       "    <tr>\n",
       "      <th>3</th>\n",
       "      <td>map</td>\n",
       "      <td>0</td>\n",
       "    </tr>\n",
       "    <tr>\n",
       "      <th>4</th>\n",
       "      <td>bomb_planted</td>\n",
       "      <td>0</td>\n",
       "    </tr>\n",
       "    <tr>\n",
       "      <th>...</th>\n",
       "      <td>...</td>\n",
       "      <td>...</td>\n",
       "    </tr>\n",
       "    <tr>\n",
       "      <th>92</th>\n",
       "      <td>ct_grenade_molotovgrenade</td>\n",
       "      <td>0</td>\n",
       "    </tr>\n",
       "    <tr>\n",
       "      <th>93</th>\n",
       "      <td>t_grenade_molotovgrenade</td>\n",
       "      <td>0</td>\n",
       "    </tr>\n",
       "    <tr>\n",
       "      <th>94</th>\n",
       "      <td>ct_grenade_decoygrenade</td>\n",
       "      <td>0</td>\n",
       "    </tr>\n",
       "    <tr>\n",
       "      <th>95</th>\n",
       "      <td>t_grenade_decoygrenade</td>\n",
       "      <td>0</td>\n",
       "    </tr>\n",
       "    <tr>\n",
       "      <th>96</th>\n",
       "      <td>round_winner</td>\n",
       "      <td>0</td>\n",
       "    </tr>\n",
       "  </tbody>\n",
       "</table>\n",
       "<p>97 rows × 2 columns</p>\n",
       "</div>"
      ],
      "text/plain": [
       "                       coluna  total_nan\n",
       "0                   time_left          0\n",
       "1                    ct_score          0\n",
       "2                     t_score          0\n",
       "3                         map          0\n",
       "4                bomb_planted          0\n",
       "..                        ...        ...\n",
       "92  ct_grenade_molotovgrenade          0\n",
       "93   t_grenade_molotovgrenade          0\n",
       "94    ct_grenade_decoygrenade          0\n",
       "95     t_grenade_decoygrenade          0\n",
       "96               round_winner          0\n",
       "\n",
       "[97 rows x 2 columns]"
      ]
     },
     "execution_count": 7,
     "metadata": {},
     "output_type": "execute_result"
    }
   ],
   "source": [
    "df_nan"
   ]
  },
  {
   "cell_type": "code",
   "execution_count": 8,
   "id": "tropical-grenada",
   "metadata": {
    "ExecuteTime": {
     "end_time": "2022-05-24T00:24:14.804631Z",
     "start_time": "2022-05-24T00:24:14.706754Z"
    }
   },
   "outputs": [
    {
     "data": {
      "text/html": [
       "<div>\n",
       "<style scoped>\n",
       "    .dataframe tbody tr th:only-of-type {\n",
       "        vertical-align: middle;\n",
       "    }\n",
       "\n",
       "    .dataframe tbody tr th {\n",
       "        vertical-align: top;\n",
       "    }\n",
       "\n",
       "    .dataframe thead th {\n",
       "        text-align: right;\n",
       "    }\n",
       "</style>\n",
       "<table border=\"1\" class=\"dataframe\">\n",
       "  <thead>\n",
       "    <tr style=\"text-align: right;\">\n",
       "      <th></th>\n",
       "      <th>coluna</th>\n",
       "      <th>total_nan</th>\n",
       "    </tr>\n",
       "  </thead>\n",
       "  <tbody>\n",
       "  </tbody>\n",
       "</table>\n",
       "</div>"
      ],
      "text/plain": [
       "Empty DataFrame\n",
       "Columns: [coluna, total_nan]\n",
       "Index: []"
      ]
     },
     "execution_count": 8,
     "metadata": {},
     "output_type": "execute_result"
    }
   ],
   "source": [
    "df_nan[df_nan.total_nan > 0]"
   ]
  },
  {
   "cell_type": "markdown",
   "id": "mechanical-tractor",
   "metadata": {},
   "source": [
    "### Estudando as variáveis categóricas"
   ]
  },
  {
   "cell_type": "code",
   "execution_count": 9,
   "id": "fallen-parker",
   "metadata": {
    "ExecuteTime": {
     "end_time": "2022-05-24T00:27:52.377119Z",
     "start_time": "2022-05-24T00:27:52.366594Z"
    }
   },
   "outputs": [
    {
     "data": {
      "text/html": [
       "<div>\n",
       "<style scoped>\n",
       "    .dataframe tbody tr th:only-of-type {\n",
       "        vertical-align: middle;\n",
       "    }\n",
       "\n",
       "    .dataframe tbody tr th {\n",
       "        vertical-align: top;\n",
       "    }\n",
       "\n",
       "    .dataframe thead th {\n",
       "        text-align: right;\n",
       "    }\n",
       "</style>\n",
       "<table border=\"1\" class=\"dataframe\">\n",
       "  <thead>\n",
       "    <tr style=\"text-align: right;\">\n",
       "      <th></th>\n",
       "      <th>coluna</th>\n",
       "      <th>tipo</th>\n",
       "    </tr>\n",
       "  </thead>\n",
       "  <tbody>\n",
       "    <tr>\n",
       "      <th>3</th>\n",
       "      <td>map</td>\n",
       "      <td>object</td>\n",
       "    </tr>\n",
       "    <tr>\n",
       "      <th>96</th>\n",
       "      <td>round_winner</td>\n",
       "      <td>object</td>\n",
       "    </tr>\n",
       "  </tbody>\n",
       "</table>\n",
       "</div>"
      ],
      "text/plain": [
       "          coluna    tipo\n",
       "3            map  object\n",
       "96  round_winner  object"
      ]
     },
     "execution_count": 9,
     "metadata": {},
     "output_type": "execute_result"
    }
   ],
   "source": [
    "cols = df.dtypes.reset_index().rename(columns={'index': 'coluna', 0:'tipo'})\n",
    "categ_cols = cols[cols.tipo == 'object']\n",
    "cont_cols = cols[cols.tipo != 'object']\n",
    "categ_cols"
   ]
  },
  {
   "cell_type": "code",
   "execution_count": 10,
   "id": "egyptian-toolbox",
   "metadata": {
    "ExecuteTime": {
     "end_time": "2022-05-24T00:28:22.904330Z",
     "start_time": "2022-05-24T00:28:22.873883Z"
    }
   },
   "outputs": [
    {
     "data": {
      "text/html": [
       "<div>\n",
       "<style scoped>\n",
       "    .dataframe tbody tr th:only-of-type {\n",
       "        vertical-align: middle;\n",
       "    }\n",
       "\n",
       "    .dataframe tbody tr th {\n",
       "        vertical-align: top;\n",
       "    }\n",
       "\n",
       "    .dataframe thead th {\n",
       "        text-align: right;\n",
       "    }\n",
       "</style>\n",
       "<table border=\"1\" class=\"dataframe\">\n",
       "  <thead>\n",
       "    <tr style=\"text-align: right;\">\n",
       "      <th></th>\n",
       "      <th>coluna</th>\n",
       "      <th>tipo</th>\n",
       "    </tr>\n",
       "  </thead>\n",
       "  <tbody>\n",
       "    <tr>\n",
       "      <th>0</th>\n",
       "      <td>time_left</td>\n",
       "      <td>float64</td>\n",
       "    </tr>\n",
       "    <tr>\n",
       "      <th>1</th>\n",
       "      <td>ct_score</td>\n",
       "      <td>float64</td>\n",
       "    </tr>\n",
       "    <tr>\n",
       "      <th>2</th>\n",
       "      <td>t_score</td>\n",
       "      <td>float64</td>\n",
       "    </tr>\n",
       "    <tr>\n",
       "      <th>4</th>\n",
       "      <td>bomb_planted</td>\n",
       "      <td>bool</td>\n",
       "    </tr>\n",
       "    <tr>\n",
       "      <th>5</th>\n",
       "      <td>ct_health</td>\n",
       "      <td>float64</td>\n",
       "    </tr>\n",
       "    <tr>\n",
       "      <th>...</th>\n",
       "      <td>...</td>\n",
       "      <td>...</td>\n",
       "    </tr>\n",
       "    <tr>\n",
       "      <th>91</th>\n",
       "      <td>t_grenade_incendiarygrenade</td>\n",
       "      <td>float64</td>\n",
       "    </tr>\n",
       "    <tr>\n",
       "      <th>92</th>\n",
       "      <td>ct_grenade_molotovgrenade</td>\n",
       "      <td>float64</td>\n",
       "    </tr>\n",
       "    <tr>\n",
       "      <th>93</th>\n",
       "      <td>t_grenade_molotovgrenade</td>\n",
       "      <td>float64</td>\n",
       "    </tr>\n",
       "    <tr>\n",
       "      <th>94</th>\n",
       "      <td>ct_grenade_decoygrenade</td>\n",
       "      <td>float64</td>\n",
       "    </tr>\n",
       "    <tr>\n",
       "      <th>95</th>\n",
       "      <td>t_grenade_decoygrenade</td>\n",
       "      <td>float64</td>\n",
       "    </tr>\n",
       "  </tbody>\n",
       "</table>\n",
       "<p>95 rows × 2 columns</p>\n",
       "</div>"
      ],
      "text/plain": [
       "                         coluna     tipo\n",
       "0                     time_left  float64\n",
       "1                      ct_score  float64\n",
       "2                       t_score  float64\n",
       "4                  bomb_planted     bool\n",
       "5                     ct_health  float64\n",
       "..                          ...      ...\n",
       "91  t_grenade_incendiarygrenade  float64\n",
       "92    ct_grenade_molotovgrenade  float64\n",
       "93     t_grenade_molotovgrenade  float64\n",
       "94      ct_grenade_decoygrenade  float64\n",
       "95       t_grenade_decoygrenade  float64\n",
       "\n",
       "[95 rows x 2 columns]"
      ]
     },
     "execution_count": 10,
     "metadata": {},
     "output_type": "execute_result"
    }
   ],
   "source": [
    "cont_cols"
   ]
  },
  {
   "cell_type": "code",
   "execution_count": 11,
   "id": "secret-origin",
   "metadata": {
    "ExecuteTime": {
     "end_time": "2022-05-24T00:29:01.886549Z",
     "start_time": "2022-05-24T00:29:01.874062Z"
    }
   },
   "outputs": [
    {
     "data": {
      "text/plain": [
       "array([dtype('float64'), dtype('bool')], dtype=object)"
      ]
     },
     "execution_count": 11,
     "metadata": {},
     "output_type": "execute_result"
    }
   ],
   "source": [
    "cont_cols.tipo.unique()"
   ]
  },
  {
   "cell_type": "code",
   "execution_count": 12,
   "id": "biblical-surgeon",
   "metadata": {
    "ExecuteTime": {
     "end_time": "2022-05-24T00:30:00.207856Z",
     "start_time": "2022-05-24T00:30:00.185589Z"
    }
   },
   "outputs": [
    {
     "data": {
      "text/html": [
       "<div>\n",
       "<style scoped>\n",
       "    .dataframe tbody tr th:only-of-type {\n",
       "        vertical-align: middle;\n",
       "    }\n",
       "\n",
       "    .dataframe tbody tr th {\n",
       "        vertical-align: top;\n",
       "    }\n",
       "\n",
       "    .dataframe thead th {\n",
       "        text-align: right;\n",
       "    }\n",
       "</style>\n",
       "<table border=\"1\" class=\"dataframe\">\n",
       "  <thead>\n",
       "    <tr style=\"text-align: right;\">\n",
       "      <th></th>\n",
       "      <th>coluna</th>\n",
       "      <th>tipo</th>\n",
       "    </tr>\n",
       "  </thead>\n",
       "  <tbody>\n",
       "    <tr>\n",
       "      <th>4</th>\n",
       "      <td>bomb_planted</td>\n",
       "      <td>bool</td>\n",
       "    </tr>\n",
       "  </tbody>\n",
       "</table>\n",
       "</div>"
      ],
      "text/plain": [
       "         coluna  tipo\n",
       "4  bomb_planted  bool"
      ]
     },
     "execution_count": 12,
     "metadata": {},
     "output_type": "execute_result"
    }
   ],
   "source": [
    "cont_cols[cont_cols.tipo == 'bool']"
   ]
  },
  {
   "cell_type": "code",
   "execution_count": 13,
   "id": "palestinian-criminal",
   "metadata": {
    "ExecuteTime": {
     "end_time": "2022-05-24T00:31:00.381425Z",
     "start_time": "2022-05-24T00:31:00.370759Z"
    }
   },
   "outputs": [],
   "source": [
    "df.bomb_planted = df.bomb_planted.astype(int)"
   ]
  },
  {
   "cell_type": "code",
   "execution_count": 14,
   "id": "arabic-lafayette",
   "metadata": {
    "ExecuteTime": {
     "end_time": "2022-05-24T00:31:11.876859Z",
     "start_time": "2022-05-24T00:31:11.860154Z"
    }
   },
   "outputs": [
    {
     "data": {
      "text/plain": [
       "0         0\n",
       "1         0\n",
       "2         0\n",
       "3         0\n",
       "4         0\n",
       "         ..\n",
       "122405    1\n",
       "122406    0\n",
       "122407    0\n",
       "122408    0\n",
       "122409    0\n",
       "Name: bomb_planted, Length: 122410, dtype: int64"
      ]
     },
     "execution_count": 14,
     "metadata": {},
     "output_type": "execute_result"
    }
   ],
   "source": [
    "df.bomb_planted"
   ]
  },
  {
   "cell_type": "code",
   "execution_count": 15,
   "id": "configured-person",
   "metadata": {
    "ExecuteTime": {
     "end_time": "2022-05-24T00:33:32.626396Z",
     "start_time": "2022-05-24T00:33:32.601701Z"
    }
   },
   "outputs": [
    {
     "data": {
      "text/plain": [
       "array(['CT', 'T'], dtype=object)"
      ]
     },
     "execution_count": 15,
     "metadata": {},
     "output_type": "execute_result"
    }
   ],
   "source": [
    "df.round_winner.unique()"
   ]
  },
  {
   "cell_type": "markdown",
   "id": "noted-newman",
   "metadata": {},
   "source": [
    "A coluna round winner mostra quem ganhou o jogo, CT representando Counter Terrorists e T representando Terrorists, que são os dois times jogados no jogo"
   ]
  },
  {
   "cell_type": "markdown",
   "id": "educational-sequence",
   "metadata": {},
   "source": [
    "### Verificando outliers nas variáveis contínuas"
   ]
  },
  {
   "cell_type": "code",
   "execution_count": 17,
   "id": "compressed-macedonia",
   "metadata": {
    "ExecuteTime": {
     "end_time": "2022-05-24T00:35:35.652165Z",
     "start_time": "2022-05-24T00:35:26.516332Z"
    }
   },
   "outputs": [
    {
     "data": {
      "text/plain": [
       "<AxesSubplot:>"
      ]
     },
     "execution_count": 17,
     "metadata": {},
     "output_type": "execute_result"
    },
    {
     "data": {
      "image/png": "[encoded data removed]",
      "text/plain": [
       "<Figure size 432x288 with 1 Axes>"
      ]
     },
     "metadata": {
      "needs_background": "light"
     },
     "output_type": "display_data"
    }
   ],
   "source": [
    "df.boxplot()"
   ]
  },
  {
   "cell_type": "code",
   "execution_count": 18,
   "id": "useful-enterprise",
   "metadata": {
    "ExecuteTime": {
     "end_time": "2022-05-24T00:48:22.118616Z",
     "start_time": "2022-05-24T00:47:32.362969Z"
    }
   },
   "outputs": [],
   "source": [
    "nomes_colunas = []\n",
    "qtt_outliers = []\n",
    "\n",
    "for i in cont_cols.coluna:\n",
    "    \n",
    "    contador = 0\n",
    "    \n",
    "    q1 = np.quantile(df[i], 0.25)\n",
    "    q3 = np.quantile(df[i], 0.75)\n",
    "    li = q1 - 1.5*(q3 - q1)\n",
    "    ls = q3 - 1.5*(q3 - q1)\n",
    "    \n",
    "    for j in df.index:\n",
    "        if li <= df[i][j] <= ls:\n",
    "            pass\n",
    "        else:\n",
    "            contador += 1\n",
    "    \n",
    "    perc_outliers = (contador/df[i].count())*100\n",
    "    \n",
    "    nomes_colunas.append(i)\n",
    "    qtt_outliers.append(perc_outliers)\n",
    "    #df = df.drop(j, axis=0)"
   ]
  },
  {
   "cell_type": "code",
   "execution_count": 19,
   "id": "latter-vienna",
   "metadata": {
    "ExecuteTime": {
     "end_time": "2022-05-24T00:50:07.532803Z",
     "start_time": "2022-05-24T00:50:07.499059Z"
    }
   },
   "outputs": [
    {
     "data": {
      "text/html": [
       "<div>\n",
       "<style scoped>\n",
       "    .dataframe tbody tr th:only-of-type {\n",
       "        vertical-align: middle;\n",
       "    }\n",
       "\n",
       "    .dataframe tbody tr th {\n",
       "        vertical-align: top;\n",
       "    }\n",
       "\n",
       "    .dataframe thead th {\n",
       "        text-align: right;\n",
       "    }\n",
       "</style>\n",
       "<table border=\"1\" class=\"dataframe\">\n",
       "  <thead>\n",
       "    <tr style=\"text-align: right;\">\n",
       "      <th></th>\n",
       "      <th>coluna</th>\n",
       "      <th>perc_outliers</th>\n",
       "    </tr>\n",
       "  </thead>\n",
       "  <tbody>\n",
       "    <tr>\n",
       "      <th>0</th>\n",
       "      <td>time_left</td>\n",
       "      <td>100.000000</td>\n",
       "    </tr>\n",
       "    <tr>\n",
       "      <th>1</th>\n",
       "      <td>ct_score</td>\n",
       "      <td>100.000000</td>\n",
       "    </tr>\n",
       "    <tr>\n",
       "      <th>2</th>\n",
       "      <td>t_score</td>\n",
       "      <td>100.000000</td>\n",
       "    </tr>\n",
       "    <tr>\n",
       "      <th>3</th>\n",
       "      <td>bomb_planted</td>\n",
       "      <td>11.178825</td>\n",
       "    </tr>\n",
       "    <tr>\n",
       "      <th>4</th>\n",
       "      <td>ct_health</td>\n",
       "      <td>89.434687</td>\n",
       "    </tr>\n",
       "    <tr>\n",
       "      <th>5</th>\n",
       "      <td>t_health</td>\n",
       "      <td>86.704518</td>\n",
       "    </tr>\n",
       "    <tr>\n",
       "      <th>6</th>\n",
       "      <td>ct_armor</td>\n",
       "      <td>89.148762</td>\n",
       "    </tr>\n",
       "    <tr>\n",
       "      <th>7</th>\n",
       "      <td>t_armor</td>\n",
       "      <td>85.512622</td>\n",
       "    </tr>\n",
       "    <tr>\n",
       "      <th>8</th>\n",
       "      <td>ct_money</td>\n",
       "      <td>100.000000</td>\n",
       "    </tr>\n",
       "    <tr>\n",
       "      <th>9</th>\n",
       "      <td>t_money</td>\n",
       "      <td>100.000000</td>\n",
       "    </tr>\n",
       "    <tr>\n",
       "      <th>10</th>\n",
       "      <td>ct_helmets</td>\n",
       "      <td>100.000000</td>\n",
       "    </tr>\n",
       "    <tr>\n",
       "      <th>11</th>\n",
       "      <td>t_helmets</td>\n",
       "      <td>100.000000</td>\n",
       "    </tr>\n",
       "    <tr>\n",
       "      <th>12</th>\n",
       "      <td>ct_defuse_kits</td>\n",
       "      <td>100.000000</td>\n",
       "    </tr>\n",
       "    <tr>\n",
       "      <th>13</th>\n",
       "      <td>ct_players_alive</td>\n",
       "      <td>91.239278</td>\n",
       "    </tr>\n",
       "    <tr>\n",
       "      <th>14</th>\n",
       "      <td>t_players_alive</td>\n",
       "      <td>91.083245</td>\n",
       "    </tr>\n",
       "    <tr>\n",
       "      <th>15</th>\n",
       "      <td>ct_weapon_ak47</td>\n",
       "      <td>21.308717</td>\n",
       "    </tr>\n",
       "    <tr>\n",
       "      <th>16</th>\n",
       "      <td>t_weapon_ak47</td>\n",
       "      <td>100.000000</td>\n",
       "    </tr>\n",
       "    <tr>\n",
       "      <th>17</th>\n",
       "      <td>ct_weapon_aug</td>\n",
       "      <td>10.071073</td>\n",
       "    </tr>\n",
       "    <tr>\n",
       "      <th>19</th>\n",
       "      <td>ct_weapon_awp</td>\n",
       "      <td>100.000000</td>\n",
       "    </tr>\n",
       "    <tr>\n",
       "      <th>20</th>\n",
       "      <td>t_weapon_awp</td>\n",
       "      <td>100.000000</td>\n",
       "    </tr>\n",
       "    <tr>\n",
       "      <th>23</th>\n",
       "      <td>ct_weapon_cz75auto</td>\n",
       "      <td>12.320072</td>\n",
       "    </tr>\n",
       "    <tr>\n",
       "      <th>34</th>\n",
       "      <td>t_weapon_glock</td>\n",
       "      <td>92.667266</td>\n",
       "    </tr>\n",
       "    <tr>\n",
       "      <th>39</th>\n",
       "      <td>ct_weapon_m4a4</td>\n",
       "      <td>100.000000</td>\n",
       "    </tr>\n",
       "    <tr>\n",
       "      <th>49</th>\n",
       "      <td>ct_weapon_mp9</td>\n",
       "      <td>10.812025</td>\n",
       "    </tr>\n",
       "    <tr>\n",
       "      <th>63</th>\n",
       "      <td>ct_weapon_sg553</td>\n",
       "      <td>18.546687</td>\n",
       "    </tr>\n",
       "    <tr>\n",
       "      <th>64</th>\n",
       "      <td>t_weapon_sg553</td>\n",
       "      <td>100.000000</td>\n",
       "    </tr>\n",
       "    <tr>\n",
       "      <th>71</th>\n",
       "      <td>ct_weapon_deagle</td>\n",
       "      <td>100.000000</td>\n",
       "    </tr>\n",
       "    <tr>\n",
       "      <th>72</th>\n",
       "      <td>t_weapon_deagle</td>\n",
       "      <td>23.721918</td>\n",
       "    </tr>\n",
       "    <tr>\n",
       "      <th>75</th>\n",
       "      <td>ct_weapon_usps</td>\n",
       "      <td>93.404951</td>\n",
       "    </tr>\n",
       "    <tr>\n",
       "      <th>77</th>\n",
       "      <td>ct_weapon_p250</td>\n",
       "      <td>19.247610</td>\n",
       "    </tr>\n",
       "    <tr>\n",
       "      <th>78</th>\n",
       "      <td>t_weapon_p250</td>\n",
       "      <td>23.734172</td>\n",
       "    </tr>\n",
       "    <tr>\n",
       "      <th>79</th>\n",
       "      <td>ct_weapon_p2000</td>\n",
       "      <td>15.630259</td>\n",
       "    </tr>\n",
       "    <tr>\n",
       "      <th>83</th>\n",
       "      <td>ct_grenade_hegrenade</td>\n",
       "      <td>100.000000</td>\n",
       "    </tr>\n",
       "    <tr>\n",
       "      <th>84</th>\n",
       "      <td>t_grenade_hegrenade</td>\n",
       "      <td>100.000000</td>\n",
       "    </tr>\n",
       "    <tr>\n",
       "      <th>85</th>\n",
       "      <td>ct_grenade_flashbang</td>\n",
       "      <td>100.000000</td>\n",
       "    </tr>\n",
       "    <tr>\n",
       "      <th>86</th>\n",
       "      <td>t_grenade_flashbang</td>\n",
       "      <td>100.000000</td>\n",
       "    </tr>\n",
       "    <tr>\n",
       "      <th>87</th>\n",
       "      <td>ct_grenade_smokegrenade</td>\n",
       "      <td>100.000000</td>\n",
       "    </tr>\n",
       "    <tr>\n",
       "      <th>88</th>\n",
       "      <td>t_grenade_smokegrenade</td>\n",
       "      <td>100.000000</td>\n",
       "    </tr>\n",
       "    <tr>\n",
       "      <th>89</th>\n",
       "      <td>ct_grenade_incendiarygrenade</td>\n",
       "      <td>100.000000</td>\n",
       "    </tr>\n",
       "    <tr>\n",
       "      <th>92</th>\n",
       "      <td>t_grenade_molotovgrenade</td>\n",
       "      <td>100.000000</td>\n",
       "    </tr>\n",
       "  </tbody>\n",
       "</table>\n",
       "</div>"
      ],
      "text/plain": [
       "                          coluna  perc_outliers\n",
       "0                      time_left     100.000000\n",
       "1                       ct_score     100.000000\n",
       "2                        t_score     100.000000\n",
       "3                   bomb_planted      11.178825\n",
       "4                      ct_health      89.434687\n",
       "5                       t_health      86.704518\n",
       "6                       ct_armor      89.148762\n",
       "7                        t_armor      85.512622\n",
       "8                       ct_money     100.000000\n",
       "9                        t_money     100.000000\n",
       "10                    ct_helmets     100.000000\n",
       "11                     t_helmets     100.000000\n",
       "12                ct_defuse_kits     100.000000\n",
       "13              ct_players_alive      91.239278\n",
       "14               t_players_alive      91.083245\n",
       "15                ct_weapon_ak47      21.308717\n",
       "16                 t_weapon_ak47     100.000000\n",
       "17                 ct_weapon_aug      10.071073\n",
       "19                 ct_weapon_awp     100.000000\n",
       "20                  t_weapon_awp     100.000000\n",
       "23            ct_weapon_cz75auto      12.320072\n",
       "34                t_weapon_glock      92.667266\n",
       "39                ct_weapon_m4a4     100.000000\n",
       "49                 ct_weapon_mp9      10.812025\n",
       "63               ct_weapon_sg553      18.546687\n",
       "64                t_weapon_sg553     100.000000\n",
       "71              ct_weapon_deagle     100.000000\n",
       "72               t_weapon_deagle      23.721918\n",
       "75                ct_weapon_usps      93.404951\n",
       "77                ct_weapon_p250      19.247610\n",
       "78                 t_weapon_p250      23.734172\n",
       "79               ct_weapon_p2000      15.630259\n",
       "83          ct_grenade_hegrenade     100.000000\n",
       "84           t_grenade_hegrenade     100.000000\n",
       "85          ct_grenade_flashbang     100.000000\n",
       "86           t_grenade_flashbang     100.000000\n",
       "87       ct_grenade_smokegrenade     100.000000\n",
       "88        t_grenade_smokegrenade     100.000000\n",
       "89  ct_grenade_incendiarygrenade     100.000000\n",
       "92      t_grenade_molotovgrenade     100.000000"
      ]
     },
     "execution_count": 19,
     "metadata": {},
     "output_type": "execute_result"
    }
   ],
   "source": [
    "outliers = pd.DataFrame()\n",
    "outliers['coluna'] = nomes_colunas\n",
    "outliers['perc_outliers'] = qtt_outliers\n",
    "outliers[outliers.perc_outliers > 10]"
   ]
  },
  {
   "cell_type": "markdown",
   "id": "indie-conjunction",
   "metadata": {},
   "source": [
    "### Tratando variáveis categóricas"
   ]
  },
  {
   "cell_type": "code",
   "execution_count": 20,
   "id": "residential-works",
   "metadata": {
    "ExecuteTime": {
     "end_time": "2022-05-24T00:52:37.796341Z",
     "start_time": "2022-05-24T00:52:35.158922Z"
    }
   },
   "outputs": [],
   "source": [
    "from sklearn.preprocessing import LabelEncoder\n",
    "\n",
    "le = LabelEncoder()\n",
    "\n",
    "for i in categ_cols.coluna:\n",
    "    df[str(i) + '_encoded'] = le.fit_transform(df[i])"
   ]
  },
  {
   "cell_type": "code",
   "execution_count": 21,
   "id": "measured-nebraska",
   "metadata": {
    "ExecuteTime": {
     "end_time": "2022-05-24T00:53:05.388646Z",
     "start_time": "2022-05-24T00:53:05.363135Z"
    }
   },
   "outputs": [
    {
     "data": {
      "text/html": [
       "<div>\n",
       "<style scoped>\n",
       "    .dataframe tbody tr th:only-of-type {\n",
       "        vertical-align: middle;\n",
       "    }\n",
       "\n",
       "    .dataframe tbody tr th {\n",
       "        vertical-align: top;\n",
       "    }\n",
       "\n",
       "    .dataframe thead th {\n",
       "        text-align: right;\n",
       "    }\n",
       "</style>\n",
       "<table border=\"1\" class=\"dataframe\">\n",
       "  <thead>\n",
       "    <tr style=\"text-align: right;\">\n",
       "      <th></th>\n",
       "      <th>round_winner</th>\n",
       "      <th>round_winner_encoded</th>\n",
       "    </tr>\n",
       "  </thead>\n",
       "  <tbody>\n",
       "    <tr>\n",
       "      <th>0</th>\n",
       "      <td>CT</td>\n",
       "      <td>0</td>\n",
       "    </tr>\n",
       "    <tr>\n",
       "      <th>1</th>\n",
       "      <td>CT</td>\n",
       "      <td>0</td>\n",
       "    </tr>\n",
       "    <tr>\n",
       "      <th>2</th>\n",
       "      <td>CT</td>\n",
       "      <td>0</td>\n",
       "    </tr>\n",
       "    <tr>\n",
       "      <th>3</th>\n",
       "      <td>CT</td>\n",
       "      <td>0</td>\n",
       "    </tr>\n",
       "    <tr>\n",
       "      <th>4</th>\n",
       "      <td>CT</td>\n",
       "      <td>0</td>\n",
       "    </tr>\n",
       "    <tr>\n",
       "      <th>...</th>\n",
       "      <td>...</td>\n",
       "      <td>...</td>\n",
       "    </tr>\n",
       "    <tr>\n",
       "      <th>122405</th>\n",
       "      <td>T</td>\n",
       "      <td>1</td>\n",
       "    </tr>\n",
       "    <tr>\n",
       "      <th>122406</th>\n",
       "      <td>T</td>\n",
       "      <td>1</td>\n",
       "    </tr>\n",
       "    <tr>\n",
       "      <th>122407</th>\n",
       "      <td>T</td>\n",
       "      <td>1</td>\n",
       "    </tr>\n",
       "    <tr>\n",
       "      <th>122408</th>\n",
       "      <td>T</td>\n",
       "      <td>1</td>\n",
       "    </tr>\n",
       "    <tr>\n",
       "      <th>122409</th>\n",
       "      <td>T</td>\n",
       "      <td>1</td>\n",
       "    </tr>\n",
       "  </tbody>\n",
       "</table>\n",
       "<p>122410 rows × 2 columns</p>\n",
       "</div>"
      ],
      "text/plain": [
       "       round_winner  round_winner_encoded\n",
       "0                CT                     0\n",
       "1                CT                     0\n",
       "2                CT                     0\n",
       "3                CT                     0\n",
       "4                CT                     0\n",
       "...             ...                   ...\n",
       "122405            T                     1\n",
       "122406            T                     1\n",
       "122407            T                     1\n",
       "122408            T                     1\n",
       "122409            T                     1\n",
       "\n",
       "[122410 rows x 2 columns]"
      ]
     },
     "execution_count": 21,
     "metadata": {},
     "output_type": "execute_result"
    }
   ],
   "source": [
    "df[['round_winner', 'round_winner_encoded']]"
   ]
  },
  {
   "cell_type": "markdown",
   "id": "needed-tiger",
   "metadata": {},
   "source": [
    "### Como ficaram após tratamento as opções da variável Resposta"
   ]
  },
  {
   "cell_type": "markdown",
   "id": "touched-cliff",
   "metadata": {},
   "source": [
    "CT = 0 e T = 1"
   ]
  },
  {
   "cell_type": "code",
   "execution_count": 22,
   "id": "phantom-denmark",
   "metadata": {
    "ExecuteTime": {
     "end_time": "2022-05-24T00:54:44.360716Z",
     "start_time": "2022-05-24T00:54:44.321614Z"
    }
   },
   "outputs": [],
   "source": [
    "df = df.drop(['round_winner', 'map'], axis = 1)"
   ]
  },
  {
   "cell_type": "markdown",
   "id": "fewer-atlas",
   "metadata": {},
   "source": [
    "### Separando o Dataset entre Treino e Teste"
   ]
  },
  {
   "cell_type": "code",
   "execution_count": 23,
   "id": "varied-chamber",
   "metadata": {
    "ExecuteTime": {
     "end_time": "2022-05-24T00:56:14.020829Z",
     "start_time": "2022-05-24T00:56:13.528994Z"
    }
   },
   "outputs": [],
   "source": [
    "from sklearn.model_selection import train_test_split\n",
    "\n",
    "x = df.drop('round_winner_encoded', axis = 1)\n",
    "y = df.round_winner_encoded"
   ]
  },
  {
   "cell_type": "markdown",
   "id": "alien-calgary",
   "metadata": {},
   "source": [
    "### Padronizando as variáveis de entrada do modelo"
   ]
  },
  {
   "cell_type": "code",
   "execution_count": 24,
   "id": "about-tribute",
   "metadata": {
    "ExecuteTime": {
     "end_time": "2022-05-24T00:57:34.119425Z",
     "start_time": "2022-05-24T00:57:33.890851Z"
    }
   },
   "outputs": [],
   "source": [
    "from sklearn.preprocessing import StandardScaler\n",
    "\n",
    "scaler = StandardScaler()\n",
    "\n",
    "x_scaled = scaler.fit_transform(x)"
   ]
  },
  {
   "cell_type": "code",
   "execution_count": 25,
   "id": "celtic-brooklyn",
   "metadata": {
    "ExecuteTime": {
     "end_time": "2022-05-24T00:57:41.159282Z",
     "start_time": "2022-05-24T00:57:41.145259Z"
    }
   },
   "outputs": [
    {
     "data": {
      "text/plain": [
       "array([[ 1.41582771, -1.40057607, -1.40570151, ..., -0.16335636,\n",
       "        -0.15685461, -1.30640985],\n",
       "       [ 1.06753073, -1.40057607, -1.40570151, ..., -0.16335636,\n",
       "        -0.15685461, -1.30640985],\n",
       "       [-0.03409385, -1.40057607, -1.40570151, ..., -0.16335636,\n",
       "        -0.15685461, -1.30640985],\n",
       "       ...,\n",
       "       [ 0.31291789,  0.89571055,  1.70405824, ..., -0.16335636,\n",
       "        -0.15685461,  1.28549842],\n",
       "       [-0.0542903 ,  0.89571055,  1.70405824, ..., -0.16335636,\n",
       "        -0.15685461,  1.28549842],\n",
       "       [-0.4214985 ,  0.89571055,  1.70405824, ..., -0.16335636,\n",
       "        -0.15685461,  1.28549842]])"
      ]
     },
     "execution_count": 25,
     "metadata": {},
     "output_type": "execute_result"
    }
   ],
   "source": [
    "x_scaled"
   ]
  },
  {
   "cell_type": "code",
   "execution_count": 26,
   "id": "saving-lesbian",
   "metadata": {
    "ExecuteTime": {
     "end_time": "2022-05-24T00:58:35.485967Z",
     "start_time": "2022-05-24T00:58:35.475684Z"
    }
   },
   "outputs": [],
   "source": [
    "x_scaled = pd.DataFrame(x_scaled, columns=(x.columns))"
   ]
  },
  {
   "cell_type": "code",
   "execution_count": 27,
   "id": "sudden-thriller",
   "metadata": {
    "ExecuteTime": {
     "end_time": "2022-05-24T00:58:40.919353Z",
     "start_time": "2022-05-24T00:58:40.867129Z"
    }
   },
   "outputs": [
    {
     "data": {
      "text/html": [
       "<div>\n",
       "<style scoped>\n",
       "    .dataframe tbody tr th:only-of-type {\n",
       "        vertical-align: middle;\n",
       "    }\n",
       "\n",
       "    .dataframe tbody tr th {\n",
       "        vertical-align: top;\n",
       "    }\n",
       "\n",
       "    .dataframe thead th {\n",
       "        text-align: right;\n",
       "    }\n",
       "</style>\n",
       "<table border=\"1\" class=\"dataframe\">\n",
       "  <thead>\n",
       "    <tr style=\"text-align: right;\">\n",
       "      <th></th>\n",
       "      <th>time_left</th>\n",
       "      <th>ct_score</th>\n",
       "      <th>t_score</th>\n",
       "      <th>bomb_planted</th>\n",
       "      <th>ct_health</th>\n",
       "      <th>t_health</th>\n",
       "      <th>ct_armor</th>\n",
       "      <th>t_armor</th>\n",
       "      <th>ct_money</th>\n",
       "      <th>t_money</th>\n",
       "      <th>...</th>\n",
       "      <th>t_grenade_flashbang</th>\n",
       "      <th>ct_grenade_smokegrenade</th>\n",
       "      <th>t_grenade_smokegrenade</th>\n",
       "      <th>ct_grenade_incendiarygrenade</th>\n",
       "      <th>t_grenade_incendiarygrenade</th>\n",
       "      <th>ct_grenade_molotovgrenade</th>\n",
       "      <th>t_grenade_molotovgrenade</th>\n",
       "      <th>ct_grenade_decoygrenade</th>\n",
       "      <th>t_grenade_decoygrenade</th>\n",
       "      <th>map_encoded</th>\n",
       "    </tr>\n",
       "  </thead>\n",
       "  <tbody>\n",
       "    <tr>\n",
       "      <th>0</th>\n",
       "      <td>1.415828</td>\n",
       "      <td>-1.400576</td>\n",
       "      <td>-1.405702</td>\n",
       "      <td>-0.354764</td>\n",
       "      <td>0.664386</td>\n",
       "      <td>0.695301</td>\n",
       "      <td>-1.836777</td>\n",
       "      <td>-1.709542</td>\n",
       "      <td>-0.516186</td>\n",
       "      <td>-0.595345</td>\n",
       "      <td>...</td>\n",
       "      <td>-1.035461</td>\n",
       "      <td>-0.886648</td>\n",
       "      <td>-0.889569</td>\n",
       "      <td>-0.687185</td>\n",
       "      <td>-0.137694</td>\n",
       "      <td>-0.210881</td>\n",
       "      <td>-0.812929</td>\n",
       "      <td>-0.163356</td>\n",
       "      <td>-0.156855</td>\n",
       "      <td>-1.306410</td>\n",
       "    </tr>\n",
       "    <tr>\n",
       "      <th>1</th>\n",
       "      <td>1.067531</td>\n",
       "      <td>-1.400576</td>\n",
       "      <td>-1.405702</td>\n",
       "      <td>-0.354764</td>\n",
       "      <td>0.664386</td>\n",
       "      <td>0.695301</td>\n",
       "      <td>0.502008</td>\n",
       "      <td>0.008909</td>\n",
       "      <td>-0.819351</td>\n",
       "      <td>-0.870776</td>\n",
       "      <td>...</td>\n",
       "      <td>-1.035461</td>\n",
       "      <td>-0.886648</td>\n",
       "      <td>0.203841</td>\n",
       "      <td>-0.687185</td>\n",
       "      <td>-0.137694</td>\n",
       "      <td>-0.210881</td>\n",
       "      <td>-0.812929</td>\n",
       "      <td>-0.163356</td>\n",
       "      <td>-0.156855</td>\n",
       "      <td>-1.306410</td>\n",
       "    </tr>\n",
       "    <tr>\n",
       "      <th>2</th>\n",
       "      <td>-0.034094</td>\n",
       "      <td>-1.400576</td>\n",
       "      <td>-1.405702</td>\n",
       "      <td>-0.354764</td>\n",
       "      <td>-0.159544</td>\n",
       "      <td>-0.019401</td>\n",
       "      <td>-0.117770</td>\n",
       "      <td>-0.563908</td>\n",
       "      <td>-0.805977</td>\n",
       "      <td>-0.883109</td>\n",
       "      <td>...</td>\n",
       "      <td>-1.035461</td>\n",
       "      <td>-0.886648</td>\n",
       "      <td>0.203841</td>\n",
       "      <td>-0.687185</td>\n",
       "      <td>-0.137694</td>\n",
       "      <td>-0.210881</td>\n",
       "      <td>-0.812929</td>\n",
       "      <td>-0.163356</td>\n",
       "      <td>-0.156855</td>\n",
       "      <td>-1.306410</td>\n",
       "    </tr>\n",
       "    <tr>\n",
       "      <th>3</th>\n",
       "      <td>-0.401302</td>\n",
       "      <td>-1.400576</td>\n",
       "      <td>-1.405702</td>\n",
       "      <td>-0.354764</td>\n",
       "      <td>-0.159544</td>\n",
       "      <td>-0.019401</td>\n",
       "      <td>-0.117770</td>\n",
       "      <td>-0.563908</td>\n",
       "      <td>-0.805977</td>\n",
       "      <td>-0.883109</td>\n",
       "      <td>...</td>\n",
       "      <td>-1.035461</td>\n",
       "      <td>-0.886648</td>\n",
       "      <td>-0.889569</td>\n",
       "      <td>-0.687185</td>\n",
       "      <td>-0.137694</td>\n",
       "      <td>-0.210881</td>\n",
       "      <td>-0.812929</td>\n",
       "      <td>-0.163356</td>\n",
       "      <td>-0.156855</td>\n",
       "      <td>-1.306410</td>\n",
       "    </tr>\n",
       "    <tr>\n",
       "      <th>4</th>\n",
       "      <td>1.415277</td>\n",
       "      <td>-1.191823</td>\n",
       "      <td>-1.405702</td>\n",
       "      <td>-0.354764</td>\n",
       "      <td>0.664386</td>\n",
       "      <td>0.695301</td>\n",
       "      <td>-0.714160</td>\n",
       "      <td>-1.709542</td>\n",
       "      <td>0.763351</td>\n",
       "      <td>-0.040372</td>\n",
       "      <td>...</td>\n",
       "      <td>-1.035461</td>\n",
       "      <td>-0.886648</td>\n",
       "      <td>-0.889569</td>\n",
       "      <td>-0.687185</td>\n",
       "      <td>-0.137694</td>\n",
       "      <td>-0.210881</td>\n",
       "      <td>-0.812929</td>\n",
       "      <td>-0.163356</td>\n",
       "      <td>-0.156855</td>\n",
       "      <td>-1.306410</td>\n",
       "    </tr>\n",
       "    <tr>\n",
       "      <th>...</th>\n",
       "      <td>...</td>\n",
       "      <td>...</td>\n",
       "      <td>...</td>\n",
       "      <td>...</td>\n",
       "      <td>...</td>\n",
       "      <td>...</td>\n",
       "      <td>...</td>\n",
       "      <td>...</td>\n",
       "      <td>...</td>\n",
       "      <td>...</td>\n",
       "      <td>...</td>\n",
       "      <td>...</td>\n",
       "      <td>...</td>\n",
       "      <td>...</td>\n",
       "      <td>...</td>\n",
       "      <td>...</td>\n",
       "      <td>...</td>\n",
       "      <td>...</td>\n",
       "      <td>...</td>\n",
       "      <td>...</td>\n",
       "      <td>...</td>\n",
       "    </tr>\n",
       "    <tr>\n",
       "      <th>122405</th>\n",
       "      <td>-1.514310</td>\n",
       "      <td>0.895711</td>\n",
       "      <td>1.496741</td>\n",
       "      <td>2.818773</td>\n",
       "      <td>-1.603312</td>\n",
       "      <td>-1.148630</td>\n",
       "      <td>-0.696619</td>\n",
       "      <td>0.346871</td>\n",
       "      <td>-0.863935</td>\n",
       "      <td>-0.435020</td>\n",
       "      <td>...</td>\n",
       "      <td>0.079077</td>\n",
       "      <td>-0.311206</td>\n",
       "      <td>-0.342864</td>\n",
       "      <td>-0.687185</td>\n",
       "      <td>-0.137694</td>\n",
       "      <td>-0.210881</td>\n",
       "      <td>-0.812929</td>\n",
       "      <td>-0.163356</td>\n",
       "      <td>-0.156855</td>\n",
       "      <td>1.285498</td>\n",
       "    </tr>\n",
       "    <tr>\n",
       "      <th>122406</th>\n",
       "      <td>1.414542</td>\n",
       "      <td>0.895711</td>\n",
       "      <td>1.704058</td>\n",
       "      <td>-0.354764</td>\n",
       "      <td>0.664386</td>\n",
       "      <td>0.695301</td>\n",
       "      <td>-1.281315</td>\n",
       "      <td>-0.707112</td>\n",
       "      <td>0.152561</td>\n",
       "      <td>1.040797</td>\n",
       "      <td>...</td>\n",
       "      <td>0.079077</td>\n",
       "      <td>-0.311206</td>\n",
       "      <td>-0.889569</td>\n",
       "      <td>-0.687185</td>\n",
       "      <td>-0.137694</td>\n",
       "      <td>-0.210881</td>\n",
       "      <td>-0.812929</td>\n",
       "      <td>-0.163356</td>\n",
       "      <td>-0.156855</td>\n",
       "      <td>1.285498</td>\n",
       "    </tr>\n",
       "    <tr>\n",
       "      <th>122407</th>\n",
       "      <td>0.312918</td>\n",
       "      <td>0.895711</td>\n",
       "      <td>1.704058</td>\n",
       "      <td>-0.354764</td>\n",
       "      <td>0.664386</td>\n",
       "      <td>0.695301</td>\n",
       "      <td>1.057469</td>\n",
       "      <td>1.011339</td>\n",
       "      <td>-0.765852</td>\n",
       "      <td>-0.373356</td>\n",
       "      <td>...</td>\n",
       "      <td>1.193615</td>\n",
       "      <td>0.839676</td>\n",
       "      <td>1.843956</td>\n",
       "      <td>-0.001350</td>\n",
       "      <td>-0.137694</td>\n",
       "      <td>-0.210881</td>\n",
       "      <td>2.193253</td>\n",
       "      <td>-0.163356</td>\n",
       "      <td>-0.156855</td>\n",
       "      <td>1.285498</td>\n",
       "    </tr>\n",
       "    <tr>\n",
       "      <th>122408</th>\n",
       "      <td>-0.054290</td>\n",
       "      <td>0.895711</td>\n",
       "      <td>1.704058</td>\n",
       "      <td>-0.354764</td>\n",
       "      <td>0.664386</td>\n",
       "      <td>0.695301</td>\n",
       "      <td>1.057469</td>\n",
       "      <td>1.011339</td>\n",
       "      <td>-0.765852</td>\n",
       "      <td>-0.373356</td>\n",
       "      <td>...</td>\n",
       "      <td>1.750884</td>\n",
       "      <td>-0.886648</td>\n",
       "      <td>0.750546</td>\n",
       "      <td>-0.687185</td>\n",
       "      <td>-0.137694</td>\n",
       "      <td>-0.210881</td>\n",
       "      <td>1.592017</td>\n",
       "      <td>-0.163356</td>\n",
       "      <td>-0.156855</td>\n",
       "      <td>1.285498</td>\n",
       "    </tr>\n",
       "    <tr>\n",
       "      <th>122409</th>\n",
       "      <td>-0.421498</td>\n",
       "      <td>0.895711</td>\n",
       "      <td>1.704058</td>\n",
       "      <td>-0.354764</td>\n",
       "      <td>-0.280488</td>\n",
       "      <td>0.545214</td>\n",
       "      <td>0.472773</td>\n",
       "      <td>0.959785</td>\n",
       "      <td>-0.774768</td>\n",
       "      <td>-0.348690</td>\n",
       "      <td>...</td>\n",
       "      <td>0.636346</td>\n",
       "      <td>-0.886648</td>\n",
       "      <td>0.203841</td>\n",
       "      <td>-0.687185</td>\n",
       "      <td>-0.137694</td>\n",
       "      <td>-0.210881</td>\n",
       "      <td>0.990780</td>\n",
       "      <td>-0.163356</td>\n",
       "      <td>-0.156855</td>\n",
       "      <td>1.285498</td>\n",
       "    </tr>\n",
       "  </tbody>\n",
       "</table>\n",
       "<p>122410 rows × 96 columns</p>\n",
       "</div>"
      ],
      "text/plain": [
       "        time_left  ct_score   t_score  bomb_planted  ct_health  t_health  \\\n",
       "0        1.415828 -1.400576 -1.405702     -0.354764   0.664386  0.695301   \n",
       "1        1.067531 -1.400576 -1.405702     -0.354764   0.664386  0.695301   \n",
       "2       -0.034094 -1.400576 -1.405702     -0.354764  -0.159544 -0.019401   \n",
       "3       -0.401302 -1.400576 -1.405702     -0.354764  -0.159544 -0.019401   \n",
       "4        1.415277 -1.191823 -1.405702     -0.354764   0.664386  0.695301   \n",
       "...           ...       ...       ...           ...        ...       ...   \n",
       "122405  -1.514310  0.895711  1.496741      2.818773  -1.603312 -1.148630   \n",
       "122406   1.414542  0.895711  1.704058     -0.354764   0.664386  0.695301   \n",
       "122407   0.312918  0.895711  1.704058     -0.354764   0.664386  0.695301   \n",
       "122408  -0.054290  0.895711  1.704058     -0.354764   0.664386  0.695301   \n",
       "122409  -0.421498  0.895711  1.704058     -0.354764  -0.280488  0.545214   \n",
       "\n",
       "        ct_armor   t_armor  ct_money   t_money  ...  t_grenade_flashbang  \\\n",
       "0      -1.836777 -1.709542 -0.516186 -0.595345  ...            -1.035461   \n",
       "1       0.502008  0.008909 -0.819351 -0.870776  ...            -1.035461   \n",
       "2      -0.117770 -0.563908 -0.805977 -0.883109  ...            -1.035461   \n",
       "3      -0.117770 -0.563908 -0.805977 -0.883109  ...            -1.035461   \n",
       "4      -0.714160 -1.709542  0.763351 -0.040372  ...            -1.035461   \n",
       "...          ...       ...       ...       ...  ...                  ...   \n",
       "122405 -0.696619  0.346871 -0.863935 -0.435020  ...             0.079077   \n",
       "122406 -1.281315 -0.707112  0.152561  1.040797  ...             0.079077   \n",
       "122407  1.057469  1.011339 -0.765852 -0.373356  ...             1.193615   \n",
       "122408  1.057469  1.011339 -0.765852 -0.373356  ...             1.750884   \n",
       "122409  0.472773  0.959785 -0.774768 -0.348690  ...             0.636346   \n",
       "\n",
       "        ct_grenade_smokegrenade  t_grenade_smokegrenade  \\\n",
       "0                     -0.886648               -0.889569   \n",
       "1                     -0.886648                0.203841   \n",
       "2                     -0.886648                0.203841   \n",
       "3                     -0.886648               -0.889569   \n",
       "4                     -0.886648               -0.889569   \n",
       "...                         ...                     ...   \n",
       "122405                -0.311206               -0.342864   \n",
       "122406                -0.311206               -0.889569   \n",
       "122407                 0.839676                1.843956   \n",
       "122408                -0.886648                0.750546   \n",
       "122409                -0.886648                0.203841   \n",
       "\n",
       "        ct_grenade_incendiarygrenade  t_grenade_incendiarygrenade  \\\n",
       "0                          -0.687185                    -0.137694   \n",
       "1                          -0.687185                    -0.137694   \n",
       "2                          -0.687185                    -0.137694   \n",
       "3                          -0.687185                    -0.137694   \n",
       "4                          -0.687185                    -0.137694   \n",
       "...                              ...                          ...   \n",
       "122405                     -0.687185                    -0.137694   \n",
       "122406                     -0.687185                    -0.137694   \n",
       "122407                     -0.001350                    -0.137694   \n",
       "122408                     -0.687185                    -0.137694   \n",
       "122409                     -0.687185                    -0.137694   \n",
       "\n",
       "        ct_grenade_molotovgrenade  t_grenade_molotovgrenade  \\\n",
       "0                       -0.210881                 -0.812929   \n",
       "1                       -0.210881                 -0.812929   \n",
       "2                       -0.210881                 -0.812929   \n",
       "3                       -0.210881                 -0.812929   \n",
       "4                       -0.210881                 -0.812929   \n",
       "...                           ...                       ...   \n",
       "122405                  -0.210881                 -0.812929   \n",
       "122406                  -0.210881                 -0.812929   \n",
       "122407                  -0.210881                  2.193253   \n",
       "122408                  -0.210881                  1.592017   \n",
       "122409                  -0.210881                  0.990780   \n",
       "\n",
       "        ct_grenade_decoygrenade  t_grenade_decoygrenade  map_encoded  \n",
       "0                     -0.163356               -0.156855    -1.306410  \n",
       "1                     -0.163356               -0.156855    -1.306410  \n",
       "2                     -0.163356               -0.156855    -1.306410  \n",
       "3                     -0.163356               -0.156855    -1.306410  \n",
       "4                     -0.163356               -0.156855    -1.306410  \n",
       "...                         ...                     ...          ...  \n",
       "122405                -0.163356               -0.156855     1.285498  \n",
       "122406                -0.163356               -0.156855     1.285498  \n",
       "122407                -0.163356               -0.156855     1.285498  \n",
       "122408                -0.163356               -0.156855     1.285498  \n",
       "122409                -0.163356               -0.156855     1.285498  \n",
       "\n",
       "[122410 rows x 96 columns]"
      ]
     },
     "execution_count": 27,
     "metadata": {},
     "output_type": "execute_result"
    }
   ],
   "source": [
    "x_scaled"
   ]
  },
  {
   "cell_type": "markdown",
   "id": "enormous-coral",
   "metadata": {},
   "source": [
    "### Quebrando o DataFrame"
   ]
  },
  {
   "cell_type": "code",
   "execution_count": 29,
   "id": "formed-customer",
   "metadata": {
    "ExecuteTime": {
     "end_time": "2022-05-24T01:00:13.710789Z",
     "start_time": "2022-05-24T01:00:13.621905Z"
    }
   },
   "outputs": [],
   "source": [
    "x_train, x_test, y_train, y_test = train_test_split(x_scaled, y,test_size=0.2, random_state=42)"
   ]
  },
  {
   "cell_type": "markdown",
   "id": "conceptual-tuner",
   "metadata": {},
   "source": [
    "### Importando o modelo"
   ]
  },
  {
   "cell_type": "code",
   "execution_count": 31,
   "id": "inappropriate-telling",
   "metadata": {
    "ExecuteTime": {
     "end_time": "2022-05-24T01:02:17.470184Z",
     "start_time": "2022-05-24T01:02:15.331577Z"
    }
   },
   "outputs": [],
   "source": [
    "from sklearn.linear_model import LogisticRegression\n",
    "\n",
    "modelo = LogisticRegression()\n",
    "\n",
    "modelo.fit(x_train, y_train)\n",
    "\n",
    "y_pred = modelo.predict(x_test)"
   ]
  },
  {
   "cell_type": "code",
   "execution_count": 32,
   "id": "identical-outreach",
   "metadata": {
    "ExecuteTime": {
     "end_time": "2022-05-24T01:02:34.061808Z",
     "start_time": "2022-05-24T01:02:34.049279Z"
    }
   },
   "outputs": [
    {
     "data": {
      "text/plain": [
       "array([0, 1, 0, ..., 1, 0, 1])"
      ]
     },
     "execution_count": 32,
     "metadata": {},
     "output_type": "execute_result"
    }
   ],
   "source": [
    "y_pred"
   ]
  },
  {
   "cell_type": "markdown",
   "id": "furnished-blink",
   "metadata": {},
   "source": [
    "### Avaliando o Modelo"
   ]
  },
  {
   "cell_type": "code",
   "execution_count": 33,
   "id": "ecological-privacy",
   "metadata": {
    "ExecuteTime": {
     "end_time": "2022-05-24T01:04:59.389568Z",
     "start_time": "2022-05-24T01:04:59.308863Z"
    }
   },
   "outputs": [
    {
     "name": "stdout",
     "output_type": "stream",
     "text": [
      "Acurácia do modelo foi :0.7498161914876236\n",
      "F1 score do modelo foi :0.7510263810414212\n"
     ]
    }
   ],
   "source": [
    "from sklearn.metrics import accuracy_score, f1_score, confusion_matrix\n",
    "\n",
    "print('Acurácia do modelo foi :' + str(accuracy_score(y_test, y_pred)))\n",
    "print('F1 score do modelo foi :' + str(f1_score(y_test, y_pred)))\n",
    "cm = confusion_matrix(y_test, y_pred)"
   ]
  },
  {
   "cell_type": "code",
   "execution_count": 41,
   "id": "likely-baking",
   "metadata": {
    "ExecuteTime": {
     "end_time": "2022-05-24T01:10:47.563670Z",
     "start_time": "2022-05-24T01:10:47.255512Z"
    }
   },
   "outputs": [
    {
     "data": {
      "text/plain": [
       "<AxesSubplot:>"
      ]
     },
     "execution_count": 41,
     "metadata": {},
     "output_type": "execute_result"
    },
    {
     "data": {
      "image/png": "[encoded data removed]",
      "text/plain": [
       "<Figure size 432x288 with 2 Axes>"
      ]
     },
     "metadata": {
      "needs_background": "light"
     },
     "output_type": "display_data"
    }
   ],
   "source": [
    "import seaborn as sns\n",
    "\n",
    "plt.figure.Figure(figsize=(10,10))\n",
    "sns.heatmap(cm, annot=True)"
   ]
  },
  {
   "cell_type": "code",
   "execution_count": null,
   "id": "chronic-exposure",
   "metadata": {},
   "outputs": [],
   "source": []
  }
 ],
 "metadata": {
  "hide_input": false,
  "kernelspec": {
   "display_name": "Python 3",
   "language": "python",
   "name": "python3"
  },
  "language_info": {
   "codemirror_mode": {
    "name": "ipython",
    "version": 3
   },
   "file_extension": ".py",
   "mimetype": "text/x-python",
   "name": "python",
   "nbconvert_exporter": "python",
   "pygments_lexer": "ipython3",
   "version": "3.9.2"
  }
 },
 "nbformat": 4,
 "nbformat_minor": 5
}
